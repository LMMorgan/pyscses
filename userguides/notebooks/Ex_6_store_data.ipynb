{
 "cells": [
  {
   "cell_type": "markdown",
   "metadata": {},
   "source": [
    "# Storing the output data\n",
    "\n",
    "The suggested way to store the calculation output is to use a ```pd.DataFrame```. Example storage is shown below. "
   ]
  },
  {
   "cell_type": "code",
   "execution_count": null,
   "metadata": {},
   "outputs": [],
   "source": [
    "from pyscses.defect_species import DefectSpecies\n",
    "from pyscses.set_of_sites import Set_of_Sites\n",
    "from pyscses.constants import boltzmann_eV\n",
    "from pyscses.calculation import Calculation, calculate_activation_energies\n",
    "from pyscses.set_up_calculation import calculate_grid_offsets\n",
    "from pyscses.grid import Grid\n",
    "\n",
    "import numpy as np\n",
    "import pandas as pd\n",
    "import matplotlib.pyplot as plt\n",
    "%matplotlib inline"
   ]
  },
  {
   "cell_type": "code",
   "execution_count": null,
   "metadata": {},
   "outputs": [],
   "source": [
    "boundary_conditions = 'periodic'\n",
    "site_charges = False\n",
    "systems = 'mott-schottky'\n",
    "core_models = False\n",
    "site_models = 'site_explicit'"
   ]
  },
  {
   "cell_type": "code",
   "execution_count": null,
   "metadata": {},
   "outputs": [],
   "source": [
    "alpha = 0.0005\n",
    "conv = 1e-8\n",
    "grid_x_min = -6.094e-9\n",
    "grid_x_max = 5.16e-9\n",
    "bulk_x_min = -5.783e-9\n",
    "bulk_x_max = -2.502e-9\n",
    "\n",
    "dielectric = 55\n",
    "\n",
    "index = 111\n",
    "b = 7.65327e-10\n",
    "c = 7.65327e-10\n",
    "\n",
    "temp = [ 773.15 ]"
   ]
  },
  {
   "cell_type": "code",
   "execution_count": null,
   "metadata": {},
   "outputs": [],
   "source": [
    "valence = [ +2.0, -1.0 ]\n",
    "site_labels = [ 'O', 'Ce' ]\n",
    "defect_labels = ['Vo', 'Gd']\n",
    "mole_fractions = np.array([ [ 0.05, 0.2 ] ])\n",
    "initial_guess = [ [ 0.05, 0.2 ] ]"
   ]
  },
  {
   "cell_type": "code",
   "execution_count": null,
   "metadata": {},
   "outputs": [],
   "source": [
    "data_3 = '../input_data/Gd_CeO2_111_data.txt'"
   ]
  },
  {
   "cell_type": "code",
   "execution_count": null,
   "metadata": {},
   "outputs": [],
   "source": [
    "limits, laplacian_limits = calculate_grid_offsets( data, grid_x_min, grid_x_max, 'single' )\n",
    "\n",
    "for m in mole_fractions:\n",
    "    for t in temp:\n",
    "    \n",
    "        defect_species = { l : DefectSpecies( l, v, m, mob ) for l, v, m, mob in zip( defect_labels, valence, m, mobilities ) }\n",
    "\n",
    "        all_sites = Set_of_Sites.set_of_sites_from_input_data( data, [grid_x_min, grid_x_max], defect_species, site_charges, core_models, t )\n",
    "        if site_models == 'continuum':\n",
    "            all_sites, limits = Set_of_Sites.form_continuum_sites( all_sites, grid_x_min, grid_x_max, 1000, b, c, defect_species, laplacian_limits, site_labels, defect_labels )\n",
    "        if systems == 'mott-schottky':\n",
    "            for site in all_sites.subset( 'Ce' ):\n",
    "                site.defect_with_label('Gd').fixed = True\n",
    "        if systems == 'gouy-chapman':\n",
    "            for site in all_sites.subset( 'Ce' ):\n",
    "                site.defect_with_label('Gd').fixed = False\n",
    "        grid = Grid.grid_from_set_of_sites( all_sites, limits, laplacian_limits, b, c )\n",
    "        \n",
    "        c_o = Calculation( grid, bulk_x_min, bulk_x_max, alpha, conv, dielectric, t, boundary_conditions )\n",
    "        c_o.form_subgrids( site_labels )\n",
    "        if systems == 'gouy-chapman':\n",
    "            c_o.mole_fraction_correction( m, systems, initial_guess )\n",
    "        c_o.solve(systems)\n",
    "        c_o.mole_fractions()\n",
    "        c_o.calculate_resistivity_ratio( 'positive', 2e-2 )\n",
    "        c_o.solve_MS_approx_for_phi( valence[0] )"
   ]
  },
  {
   "cell_type": "code",
   "execution_count": null,
   "metadata": {},
   "outputs": [],
   "source": [
    "plt.plot(grid.x, c_o.phi)\n",
    "plt.xlabel( '$x$ $\\mathrm{coordinate}$' )\n",
    "plt.ylabel('$\\Phi$ $\\mathrm{( eV )}$')\n",
    "plt.savefig('phi.pdf')\n",
    "plt.show()\n",
    "\n",
    "plt.plot(grid.x, c_o.rho)\n",
    "plt.xlabel( '$x$ $\\mathrm{coordinate}$'  )\n",
    "plt.ylabel(' $\\mathrm{charge density}$ $(\\mathrm{C m}^{-1})$')\n",
    "plt.savefig('rho.pdf')\n",
    "plt.show()\n",
    "\n",
    "plt.plot(grid.x, c_o.mf[site_labels[0]], label = '$\\mathrm{Vo}$')\n",
    "plt.plot(grid.x, c_o.mf[site_labels[1]], label = '$\\mathrm{Gd}$')\n",
    "plt.xlabel( '$x$ $\\mathrm{coordinate}$'  )\n",
    "plt.ylabel('$x_{i}$')\n",
    "plt.legend()\n",
    "plt.savefig('mf.pdf')\n",
    "plt.show()\n",
    "\n",
    "print('perpendicular grain boundary resistivity = ', c_o.perpendicular_resistvity_ratio)\n",
    "print('parallel grain boundary resistivity = ', c_o.parallel_resistvity_ratio)\n",
    "print('space charge potential = ', max(c_o.phi))\n",
    "print('Mott-Schottky approximated space charge potential = ', c_o.ms_phi)"
   ]
  }
 ],
 "metadata": {
  "kernelspec": {
   "display_name": "Python 2",
   "language": "python",
   "name": "python2"
  },
  "language_info": {
   "codemirror_mode": {
    "name": "ipython",
    "version": 2
   },
   "file_extension": ".py",
   "mimetype": "text/x-python",
   "name": "python",
   "nbconvert_exporter": "python",
   "pygments_lexer": "ipython2",
   "version": "2.7.15"
  }
 },
 "nbformat": 4,
 "nbformat_minor": 2
}
