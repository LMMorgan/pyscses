{
 "cells": [
  {
   "cell_type": "markdown",
   "metadata": {},
   "source": [
    "# Contents\n",
    "\n",
    "[Introduction to the Poisson-Boltzmann equation ](Poisson-Boltzmann.ipynb)\n",
    "\n",
    "[Solving the Poisson-Boltzmann equation ](Solving_the_Poisson-Boltzmann_equation.ipynb)\n",
    "\n",
    "[Using the code to solve the Poisson-Boltzmann equation (simple system with one core segregation energy)](using_the_code.ipynb)\n",
    "\n",
    "[Using the code to solve the Poisson-Boltzmann equation 2 (system with alternating sites and periodic boundary conditions)](using_the_code_2.ipynb)\n",
    "\n",
    "[Using the Poisson-Boltzmann solver with Mott-Schottky conditions (immobile dopant ions)](using_the_Code_3_fixeddopant.ipynb)\n",
    "\n",
    "[Calculating the grain boundary resistivity and activation energy](using_the_code_4_resistivity.ipynb)\n",
    "\n",
    "[Mott-Schottky model, Debye length and space charge width](using_the_code_5_mottschottky.ipynb)\n",
    "\n",
    "[Using the Poisson-Boltzmann solver with real data (Gd - doped ceria ) ](using_the_code_6_realdata)\n",
    "\n",
    "[?"
   ]
  },
  {
   "cell_type": "code",
   "execution_count": null,
   "metadata": {
    "collapsed": true
   },
   "outputs": [],
   "source": []
  }
 ],
 "metadata": {
  "kernelspec": {
   "display_name": "Python 3",
   "language": "python",
   "name": "python3"
  },
  "language_info": {
   "codemirror_mode": {
    "name": "ipython",
    "version": 3
   },
   "file_extension": ".py",
   "mimetype": "text/x-python",
   "name": "python",
   "nbconvert_exporter": "python",
   "pygments_lexer": "ipython3",
   "version": "3.5.2"
  }
 },
 "nbformat": 4,
 "nbformat_minor": 2
}
