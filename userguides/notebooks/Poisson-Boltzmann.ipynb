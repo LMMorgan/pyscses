{
 "cells": [
  {
   "cell_type": "markdown",
   "metadata": {},
   "source": [
    "# The Poisson-Boltzmann equation\n",
    "\n",
    "The Poisson-Boltzmann equation is the standard approach to modelling the near-interface defect behaviour in solid electrolytes. The approach combines Boltzmann statistics with the Poisson equation. The Poisson equation states that at any point in space the Laplacian of electrical potential is related to the local charge denisty and scaled by the electrical permittivity of the material. \n",
    "\n",
    "$$ \\nabla^2\\Phi = \\frac{-\\rho}{\\epsilon \\epsilon_0} $$\n",
    "\n",
    "where $\\Phi$ is the local electrostatic potential, $\\rho$ is the local charge density, $\\epsilon$ is the relative permittivity of a given material and $\\epsilon_0$ is the vacuum permitivity.\n",
    "\n",
    "In a system of point charges, the charge density is proportional to the sum of defect concentrations, given by\n",
    "\n",
    "$$ \\rho_x = \\sum_{i} c_{i,x} z_i F $$\n",
    "\n",
    "where $c_i,x$ is the concentration of defect $i$ at a given site $x$, $z$ is the valence and $F$ is the Faraday constant.\n",
    "\n",
    "These concentrations in turn, depend on the local electrostatic potential via Boltzmann statistics. The Boltzmann relation states that the ratio between two thermodynamic states is proportional to the exponential of the difference in potential energies, normalised by the thermal energy. \n",
    "\n",
    "$$ c_{i,x} = c_{i,\\infty} \\exp \\frac{-z_i F \\Phi_x + \\mu_x }{k_BT} $$\n",
    "\n",
    "where $c_{\\infty}$ is the concentration of defects in the bulk, $\\mu_x$ is the standard chemical potential, $k_B$ is the Boltzmann constant and $T$ is the temperature in Kelvin.\n",
    "\n",
    "Assuming uniform standard chemical potentials, these three relationships can be combined as a second order partial differential equation resulting in the Poisson-Boltzmann equation.\n",
    "\n",
    "$$ \\nabla^2\\Phi = - \\frac{1}{\\epsilon \\epsilon_0} \\sum_i c_{i,\\infty} \\exp \\left[ \\frac{-z_i F \\Phi_x}{k_BT} \\right] z_i F $$\n",
    "\n",
    "In a crystal, $c_{i,x}$ cannot exceed the site density, however there is no such limitation in the Boltzmann statistics forming the standard Poisson-Boltzmann approach to calculating the boundary defect behaviour. Helgee et al ( see Helgee et al., Origin of Space Charge in Grain Boundaries of Proton-Conducting BaZrO3, Fuel Cells, 13, 2013}, took into account the constraint of a limited number of sites available to accomodate defects, and instead of the Boltzmann expression, derived a \"Fermi-Dirac-like\" expression to determine the electrostatic potential and defect concentrations near an interface. \n",
    "\n",
    "$$ c_{i,x} = c_{i,\\infty} \\frac{ x_{i,\\infty} \\exp \\frac{-z_i F \\Phi_x + \\mu_x }{k_BT} }{1 + x_{i,\\infty} \\left( \\exp \\frac{-z_i F \\Phi_x + \\mu_x }{k_BT} -1 \\right) } $$\n",
    "\n",
    "where $x_{i,x}$ is the bulk defect mole fraction.\n",
    "\n",
    "For solid electrolytes, the Poisson-Boltzmann equation is commonly solved by treating the grain boundary via the boundary condition by setting the grain boundary potential. However the grain boundary can be treated explicitly by solving the Poisson-Boltzmann equation using segregation energies of defects $\\Delta E_{i,x}$. The segregation energy  is defined as the difference in energy between the energy of a defect at its site and the energy of a defect in the bulk.\n",
    "\n",
    "$$ \\Delta E_{i,x} = E_{i,x} - E_{i,\\infty} $$\n",
    "\n",
    "Including the correct site statistics and the segregation energies, the Poisson-Boltzmann equation becomes\n",
    "\n",
    "$$ \\nabla^2\\Phi = - \\frac{1}{\\epsilon \\epsilon_0} \\sum_i c_{i,\\infty} \\frac{ x_{i,\\infty} \\exp \\frac{-z_i F \\Phi_x + \\Delta E_{i,x} }{k_BT} }{1 + x_{i,\\infty} \\left( \\exp \\frac{-z_i F \\Phi_x + \\Delta E_{i,x} }{k_BT} -1 \\right) } z_i F $$\n"
   ]
  },
  {
   "cell_type": "code",
   "execution_count": null,
   "metadata": {
    "collapsed": true
   },
   "outputs": [],
   "source": []
  }
 ],
 "metadata": {
  "kernelspec": {
   "display_name": "Python 3",
   "language": "python",
   "name": "python3"
  },
  "language_info": {
   "codemirror_mode": {
    "name": "ipython",
    "version": 3
   },
   "file_extension": ".py",
   "mimetype": "text/x-python",
   "name": "python",
   "nbconvert_exporter": "python",
   "pygments_lexer": "ipython3",
   "version": "3.5.2"
  }
 },
 "nbformat": 4,
 "nbformat_minor": 2
}
