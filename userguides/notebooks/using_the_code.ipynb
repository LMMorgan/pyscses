{
 "cells": [
  {
   "cell_type": "markdown",
   "metadata": {},
   "source": [
    "# Using the code to solve the Poisson-Boltzmann equation\n",
    "\n",
    "The space charge model implemented in this code is one dimensional, with a series of discrete sites at values of $x$ over a given region. \n",
    "These $x$ coordinates, along with the segregation energies required as input for the solver can be generated using atomistic modelling of a given system.\n",
    "\n",
    "The majority of the code used is stored externally and is imported in to the notebook, along with the standard python modules, numpy, pandas and matplotlib."
   ]
  },
  {
   "cell_type": "code",
   "execution_count": 1,
   "metadata": {
    "collapsed": false
   },
   "outputs": [],
   "source": [
    "import os\n",
    "os.getcwd()\n",
    "\n",
    "import sys\n",
    "sys.path.append('/Users/glw33/source/project')\n",
    "\n",
    "#from project.set_up_calculation import load_site_data\n",
    "\n",
    "#from project.defect_species import Defect_Species\n",
    "#from project.set_of_sites import Set_of_Sites\n",
    "#from project.constants import boltzmann_eV\n",
    "from project.onedefect_onedopant_calculations import *\n",
    "#from project.general_calculations import *\n",
    "\n",
    "from project.defect_species import Defect_Species\n",
    "from project.grid import Grid\n",
    "from project.calculation import Calculation\n",
    "from project.set_of_sites import Set_of_Sites\n",
    "\n",
    "import numpy as np\n",
    "import pandas as pd\n",
    "import matplotlib.pyplot as plt\n",
    "from matplotlib import rc\n",
    "%matplotlib inline"
   ]
  },
  {
   "cell_type": "markdown",
   "metadata": {},
   "source": [
    " ### Defining variables\n",
    "Here the variables are defined. These are required for the calculation to run.\n",
    "\n",
    "```alpha``` - is a damping parameter used to damp the updates to the potential during every iteration to help convergence and numerical stability.\n",
    "\n",
    "```conv``` -  is the convergence limit that the difference between the calculated potential and the damped potential must be before convergence is accepted. \n",
    "\n",
    "```grid_x_min / grid_x_max``` - define the region either side of the grain boundary that will be included in the calculation.\n",
    "\n",
    "```dielectric``` - The relative permittivity of the material. In this case Gd-doped CeO2.\n",
    "\n",
    "```index``` - The grain boundary orientation selected for the calculation.\n",
    "\n",
    "```b / c``` - The width and height of the cell used in the atomistic simulation when defect segreagtion energies were calculated. Specific to the grain boundary orientation.\n",
    "\n",
    "```temp``` - Temperature (K)."
   ]
  },
  {
   "cell_type": "code",
   "execution_count": 2,
   "metadata": {
    "collapsed": true
   },
   "outputs": [],
   "source": [
    "alpha = 0.0005\n",
    "\n",
    "conv = 1e-8\n",
    "grid_x_min = -2.55e-8\n",
    "grid_x_max = +2.55e-8\n",
    "\n",
    "dielectric = 1\n",
    "\n",
    "index = 111\n",
    "\n",
    "b = 5e-9\n",
    "c = 5e-9\n",
    "\n",
    "temp = [773.15]\n",
    "\n",
    "limits = [ grid_x_min, grid_x_max ]"
   ]
  },
  {
   "cell_type": "markdown",
   "metadata": {},
   "source": [
    "### Defining system specific constants.\n",
    "\n",
    "The code that is imported calculates the grain boundary properties for any system that has one mobile defect and one immobile defect. In the cell below the properties for a given system are defined. These properties include the following lists. The **valence** (defect charge), the **site labels** (site_1 / site_2 - labels defining the species that would be occupying the site in pure ceria), the **defect labels** (defect_1 / defect_2 - labels defining the defect species occupying the site in gadolinium doped ceria) and the **defect mole fractions**\n",
    "\n",
    "The values are always in the order [ mobile defect property, immobile defect property ].\n",
    "#### Example\n",
    "To demonstrate how the system specific constants would be implemented using real data an example system of gadolinium doped ceria is shown.\n",
    "\n",
    "```python\n",
    "valence = [ +2.0, -1.0 ]\n",
    "site labels = [ 'O', 'Ce' ]\n",
    "defect_labels = [ 'Vo', 'Gd' ]\n",
    "mole_fractions = [ [ 0.05, 0.2 ] ]\n",
    "```\n",
    "\n",
    "However for the purpose of this example notebook we are not using any particular system. The site labels are defined as site_1/site_2 and the defect labels are defined as defect_1/defect_2 with equal but opposite valence and equal mole fractions."
   ]
  },
  {
   "cell_type": "code",
   "execution_count": 3,
   "metadata": {
    "collapsed": true
   },
   "outputs": [],
   "source": [
    "valence = [ +1.0, -1.0 ]\n",
    "site_labels = ['site_1', 'site_2']\n",
    "defect_labels = ['defect_1', 'defect_2']\n",
    "mole_fractions = [ [ 0.2, 0.2 ] ]"
   ]
  },
  {
   "cell_type": "markdown",
   "metadata": {},
   "source": [
    "When the calculation is run, the bulk mole fraction of each defect species in the output is less than the desired bulk mole fraction for each defect, therefore a correction is required to ensure that that bulk mole fraction of each defect in the output is what it should be. In the cell below, the desired mole fraction of the mobile defect and the percentage dopant concentration are defined. These are defined to select the relevent correction from the correction calculation. In this simple example, these are not used but must be defined to avoid an error."
   ]
  },
  {
   "cell_type": "code",
   "execution_count": 4,
   "metadata": {
    "collapsed": true
   },
   "outputs": [],
   "source": [
    "desired_mobile_defect_mf = 0.2\n",
    "percentage_dopant = 20"
   ]
  },
  {
   "cell_type": "markdown",
   "metadata": {},
   "source": [
    "### Input data\n",
    "\n",
    "Following this, the path to the data file is defined and stored in ```data```. "
   ]
  },
  {
   "cell_type": "code",
   "execution_count": 5,
   "metadata": {
    "collapsed": false
   },
   "outputs": [],
   "source": [
    "data = '/Users/glw33/source/project/userguides/input_data/example_data_2_one_seg_energies.txt'\n",
    "#data = input_data + '/filename'\n",
    "#data = \"{}/filename\".format( input_data )\n",
    "#data = f'{input_data}/filename'\n",
    "\n"
   ]
  },
  {
   "cell_type": "markdown",
   "metadata": {},
   "source": [
    "The input for the solver is a .txt file where each line in the file corresponds to a different site.\n",
    "\n",
    "Each line in the .txt file needs to be a string containing the following information:\n",
    "\n",
    "**Site label** - site_1 / site_2 - A label defining the species that would be occupying the site in pure ceria. \n",
    "\n",
    "** x coordinate ** - float - The x coordinate for the position of the site.\n",
    "\n",
    "** Defect label ** - defect_1 / defect_2 -  A label defining the defect species occupying the site.\n",
    "\n",
    "** Segregation energy ** The defect segregation energy for that defect occupying that site.\n",
    "\n",
    "For example:\n",
    "\n",
    "```\n",
    "site_2   -2e-09   defect_2   0.0\n",
    "site_1   -2e-09   defect_1   0.0\n",
    "site_2   -1e-09   defect_2   0.0\n",
    "site_1   -1e-09   defect_1   0.0\n",
    "site_2   0        defect_2   0.0\n",
    "site_1   0        defect_1   -1.0\n",
    "site_1   1e-09    defect_1   0.0\n",
    "site_2   1e-09    defect_2   0.0\n",
    "site_1   2e-09    defect_1   0.0\n",
    "site_2   2e-09    defect_2   0.0\n",
    "```\n",
    "\n",
    "In this example system, each $x$ coordinate on a regularly spaced grid (-50 nm to +50 nm with 1 nm spacings) has one positively charged defect (```defect_one```) and one negatively charged defect (```defect_2```). These defects are equal and opposite in their valence and therefore the system is charge neutral. For simplicity, all of the defects have a segregation energy of zero, except the central positively charged defect which has a segregation energy of -1.0 eV."
   ]
  },
  {
   "cell_type": "markdown",
   "metadata": {},
   "source": [
    "### Running the calculation\n",
    "\n",
    "As described above, for a real system there would be an initialisation step whereby a correction is applied to the bulk mole fraction used as input to achieved the desired mole fraction in the output. This correction changes depending on the temperature of the simulation and therefore the calculation in run over a loop of the temperature and mole fraction zipped together. This is in place to allow the calculation to run over a list of different temperatures without any additional user input. \n",
    "\n",
    "```\n",
    "for t, m in zip( temp, mole_fractions ):\n",
    "```\n",
    "\n",
    "Next the different defect species are defined using the ```Defect_Species``` class. This collects and stores the information about each defect, the defect label, the defect valence and the defect mole fraction.\n",
    "\n",
    "```\n",
    "defect_species = { l : Defect_Species( l, v, m ) for l, v, m in zip( defect_labels, valence, m) }\n",
    "```\n",
    "\n",
    "The input data file is opened.\n",
    "\n",
    "```\n",
    "data_file = open( data, 'r')\n",
    "```\n",
    "\n",
    "Each line is read from the opened input file and split into the different pieces of information. The site label, the $x$ coordinate, the defect label and the segregation energy providing the $x$ coordinate is in the range given by ```grid_x_min``` and ```grid_x_max```.\n",
    "\n",
    "```\n",
    "input_data = [ line.split() for line in data_file.readlines() ]\n",
    "input_data = [ line for line in input_data if ( float(line[1]) > grid_x_min and float(line[1]) < grid_x_max ) ] \n",
    "```\n",
    "\n",
    "The information is then passed into the ```site_from_input_file``` function, which creates a site using the ```Site``` class. The Site class collects and stored all of the information about each site and the defects at the site. It has the site label, the $x$ coordinate, ```defect_species``` at the site (which contains the defect label, defect valence and defect mole fraction)and the defect segregation energy. These sites are then collected and stored in a Set_of_Sites class which groups together the sites and is used for calculations involving all the sites as a whole system rather than calculations on the sites independently. \n",
    "\n",
    "\n",
    "```\n",
    "all_sites = Set_of_Sites( [ site_from_input_file( line, defect_species ) for line in input_data ] )\n",
    "```\n",
    "\n",
    "The next part of the code is optional. Space charge models typically consider dopant ions as either mobile or immobile. If the dopant ions are considered immobile, the model follows a Mott-Schottky approximation. If the dopant ions are considered mobile, the model follows a Gouy-Chapman approximation. This code includes both approximations. If ```fixed = True``` the mole fraction of the dopant ion is fixed to the bulk mole fraction throughout the iterations and therefore follows the Mott-Schottky approximation, simulating immobile dopant ions. If ```fixed = False ``` the dopant ions redistribute to their equilibrium positions, following the Gouy-Chapman approximation, simulating mobile dopant ions. The default setting is ```False```.\n",
    "\n",
    "```\n",
    "for site in all_sites.subset( 'site_2' ):\n",
    "    site.defect_with_label('defect_2').fixed = False\n",
    "```\n",
    "\n",
    "Following this, the calculation is run using the ```calculate_GB_properties``` function. This returns the grid, the potential, the charge density, the resistivity ratio (note - only correct when using Mott-Schottky approximation), the equilibrium defect mole fractions and the bulk defect density. \n",
    "\n",
    "The ```calculate_GB_properties``` function works as follows.\n",
    "\n",
    "1. The $x$ coordinates are selected from the sites and a numpy array is created from the unique values.\n",
    "2. A grid is created using the ```Grid``` class. This includes the array of $x$ coordinates, b/c (the width and height of the cell used in the atomistic simulation) and the full set of sites ```all_aites```.\n",
    "3. Another grid is created using the information for the mobile defects only. This is used for the resistivity calculations and only works when using the Mott-Shottky approximation. \n",
    "4. The potential and charge density are calculated. This uses a function ```calculation``` which takes arguments os ``` grid, conv, temp, alpha and boundary_conditions ```. The ```calculation``` function creates numpy arrays the same length as the grid including zeros for the potential (```phi```) and the charge density (```rho```). \n",
    "\n",
    " **If ```boundary_conditions``` is set to ```dirichlet```**\n",
    "\n",
    "5. The invertible matrix $A$ is created from the distances between each of the points on the grid. Initially the full matrix is created using ```scipy.sparse.diags```  and is then converted into a sparse tridiagonal matrix using ```scipy.sparse.csc_matrix``` and the calculation follows the finite difference approximation method defined above. \n",
    "6. The convergence is initialised as 1 and while it is larger than ```conv``` defined in the notebook the calculation will iterate. \n",
    "7. Using the ```phi``` array of zeros, the charge density is calculated at each site. Using the calculated value for the charge density at each site $\\Phi = A^{-1}b$ is solved using ```scipy.linalg.spsolve```. This returns ```predicted_phi``` at each site, which is damped using $\\alpha$ to become the new ```phi``` array. The convergence is updated using $\\frac{ \\sum_i ( ( \\Phi_{predicted} - \\Phi )^2 )}{L_{grid.x}}$ where $L_{grid.x}$ is the length of the grid.\n",
    "8. Using the calculated potential values the defect density is calculated. The resistivity ratio (to be discussed later), and equilibrium defect mole fractions are then calculated. \n",
    "\n",
    " ** If ```boundary_conditions``` is set to ```periodic```**\n",
    " \n",
    "9. The calculation follows the cumulative sum method defined above.\n",
    "10. The convergence is initialised as 1 and while it is larger than ```conv``` defined in the notebook the calculation will iterate. \n",
    "7. Using the ```phi``` array of zeros, the charge density is calculated at each site. Using the calculated value for the charge density at each site, ${\\Phi}$ is recalculated using a cumulative sum, ```corrected_phi``` is defined as $\\Phi + c $ with $c$ calculated using ```scipy.optimize.minimize_scalar``` allowing ```corrected_phi``` to be calculated. ```corrected_phi``` is damped using $\\alpha$ to become the new ```phi``` array. The convergence is updated using $\\frac{ \\sum_i ( ( \\Phi_{predicted} - \\Phi )^2 )}{L_{grid.x}}$ where $L_{grid.x}$ is the length of the grid and the process is iterated until the convergence limit is met.\n",
    "8. Using the calculated potential values the defect density is calculated. The resistivity ratio (to be discussed later), and equilibrium defect mole fractions are then calculated.\n",
    "\n",
    "```\n",
    "grid, phi, rho, probabilities, resistivity_ratio, defect_1_mole_fraction, defect_2_mole_fraction, bulk_density = calculate_GB_properties( t, grid_x_min, grid_x_max, b, c, index, alpha, conv, desired_mobile_defect_mf, all_sites, site_labels )\n",
    "```"
   ]
  },
  {
   "cell_type": "markdown",
   "metadata": {},
   "source": [
    "As mentioned above, the data used for this first example has a series of sites which have $x$ coordinates on a regularly spaced grid (-50 nm to +50 nm with 1 nm spacings). Each site has one positively charged defect (defect_one) and one negatively charged defect (defect_2). These defects are equal and opposite in their valence and therefore the system is charge neutral. For simplicity, all of the defects have a segregation energy of zero, except the central positively charged defect which has a segregation energy of -1.0 eV. As there are positively charged defects and negatively charged defects at each site this particular system acts as though it is using a continuum model where any defect can occupy any site. This is particularly clear when the data is plotted and the potential, charge denisty and defect mole fraction profiles are smooth.\n",
    "\n",
    "In this example, Dirichlet boundary conditions are enforced. This ensures the potential at the boundary sites is set to 0.0.  "
   ]
  },
  {
   "cell_type": "code",
   "execution_count": 6,
   "metadata": {
    "collapsed": false
   },
   "outputs": [],
   "source": [
    "# for t, m in zip( temp, mole_fractions ):\n",
    "#     defect_species = { l : Defect_Species( l, v, m ) for l, v, m in zip( defect_labels, valence, m) }\n",
    "#     data_file = open( data, 'r')\n",
    "#     input_data = [ line.split() for line in data_file.readlines() ]\n",
    "#     input_data = [ line for line in input_data if ( float(line[1]) > grid_x_min and float(line[1]) < grid_x_max ) ] \n",
    "#     all_sites = Set_of_Sites( [ site_from_input_file( line, defect_species ) for line in input_data ] )\n",
    "#     for site in all_sites.subset( 'site_2' ):\n",
    "#         site.defect_with_label('defect_2').fixed = False\n",
    "#     grid, phi, rho, probabilities, resistivity_ratio, defect_1_mole_fraction, defect_2_mole_fraction, bulk_density, niter = calculate_GB_properties( t, grid_x_min, grid_x_max, b, c, index, alpha, conv, desired_mobile_defect_mf, all_sites, site_labels, 'dirichlet' )\n",
    "\n",
    "boundary_conditions = 'dirichlet'\n",
    "\n",
    "for t, m in zip( temp, mole_fractions ):\n",
    "    defect_species = { l : Defect_Species( l, v, m ) for l, v, m in zip( defect_labels, valence, m) }\n",
    "    \n",
    "    all_sites = Set_of_Sites.set_of_sites_from_input_data( data, limits, defect_species )\n",
    "    for site in all_sites.subset( 'site_2' ):\n",
    "        site.defect_with_label('defect_2').fixed = False\n",
    "        \n",
    "    grid = Grid.grid_from_set_of_sites( all_sites, limits[0], limits[1], b, c )\n",
    "    \n",
    "    calculation_object = Calculation( grid, alpha, conv, t, boundary_conditions )\n",
    "    \n",
    "    calculation_object.solve()\n",
    "    calculation_object.form_subgrids( site_labels )\n",
    "    calculation_object.calculate_resistivity_ratio( desired_mobile_defect_mf )\n",
    "    calculation_object.mole_fractions"
   ]
  },
  {
   "cell_type": "markdown",
   "metadata": {},
   "source": [
    " The potential, charge density and defect mole fractions can then be plotted as a function of their $x$ coordinate using ```matplotlib.pyplot```."
   ]
  },
  {
   "cell_type": "code",
   "execution_count": 7,
   "metadata": {
    "collapsed": false
   },
   "outputs": [
    {
     "data": {
      "image/png": "[encoded data removed]",
      "text/plain": [
       "<matplotlib.figure.Figure at 0x117948080>"
      ]
     },
     "metadata": {},
     "output_type": "display_data"
    },
    {
     "data": {
      "image/png": "[encoded data removed]",
      "text/plain": [
       "<matplotlib.figure.Figure at 0x117a52278>"
      ]
     },
     "metadata": {},
     "output_type": "display_data"
    },
    {
     "data": {
      "image/png": "[encoded data removed]",
      "text/plain": [
       "<matplotlib.figure.Figure at 0x117b1efd0>"
      ]
     },
     "metadata": {},
     "output_type": "display_data"
    }
   ],
   "source": [
    "plt.plot(grid.x, calculation_object.phi)\n",
    "plt.xlabel( '$x$ $\\mathrm{coordinate}$' )\n",
    "\n",
    "plt.ylabel('$\\Phi$ $\\mathrm{( eV )}$')\n",
    "plt.show()\n",
    "\n",
    "plt.plot(grid.x, calculation_object.rho)\n",
    "plt.xlabel( '$x$ $\\mathrm{coordinate}$'  )\n",
    "plt.ylabel(' $\\mathrm{charge density}$ $(\\mathrm{C m}^{-1})$')\n",
    "plt.show()\n",
    "\n",
    "plt.plot(grid.x, calculation_object.mf[site_labels[0]], label = '$\\mathrm{defect_1}$')\n",
    "plt.plot(grid.x, calculation_object.mf[site_labels[1]], label = '$\\mathrm{defect_2}$')\n",
    "plt.xlabel( '$x$ $\\mathrm{coordinate}$'  )\n",
    "plt.ylabel('$x_{i}$')\n",
    "plt.legend()\n",
    "plt.show()"
   ]
  },
  {
   "cell_type": "code",
   "execution_count": null,
   "metadata": {
    "collapsed": true
   },
   "outputs": [],
   "source": []
  }
 ],
 "metadata": {
  "kernelspec": {
   "display_name": "Python 3",
   "language": "python",
   "name": "python3"
  },
  "language_info": {
   "codemirror_mode": {
    "name": "ipython",
    "version": 3
   },
   "file_extension": ".py",
   "mimetype": "text/x-python",
   "name": "python",
   "nbconvert_exporter": "python",
   "pygments_lexer": "ipython3",
   "version": "3.5.2"
  }
 },
 "nbformat": 4,
 "nbformat_minor": 2
}
