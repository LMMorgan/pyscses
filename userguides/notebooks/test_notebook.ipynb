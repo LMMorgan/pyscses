{
 "cells": [
  {
   "cell_type": "code",
   "execution_count": 2,
   "metadata": {},
   "outputs": [],
   "source": [
    "import os\n",
    "os.getcwd()\n",
    "\n",
    "import sys\n",
    "sys.path.append('/Users/glw33/source/PYSCSES')\n",
    "\n",
    "from PYSCSES_source_code.defect_species import DefectSpecies\n",
    "from PYSCSES_source_code.set_of_sites import Set_of_Sites\n",
    "from PYSCSES_source_code.constants import boltzmann_eV\n",
    "from PYSCSES_source_code.calculation import Calculation, calculate_activation_energies\n",
    "from PYSCSES_source_code.set_up_calculation import calculate_grid_offsets\n",
    "from PYSCSES_source_code.grid import Grid\n",
    "\n",
    "import numpy as np\n",
    "import pandas as pd\n",
    "import matplotlib.pyplot as plt\n",
    "%matplotlib inline\n"
   ]
  },
  {
   "cell_type": "code",
   "execution_count": 3,
   "metadata": {},
   "outputs": [],
   "source": [
    "boundary_conditions = 'periodic'\n",
    "site_charges = False\n",
    "systems = 'mott-schottky'\n",
    "core_models = False\n",
    "site_models = 'continuum'"
   ]
  },
  {
   "cell_type": "code",
   "execution_count": 4,
   "metadata": {},
   "outputs": [],
   "source": [
    "alpha = 0.0005\n",
    "conv = 1e-6\n",
    "grid_x_min = -6.094e-9\n",
    "grid_x_max = 5.16e-9\n",
    "#bulk_x_min = -5.783e-9\n",
    "bulk_x_min = -5e-9\n",
    "bulk_x_max = -2.502e-9\n",
    "\n",
    "dielectric = 55\n",
    "\n",
    "index = 111\n",
    "b = 7.65327e-10\n",
    "c = 7.65327e-10\n",
    "\n",
    "temp = [ 773.15 ]"
   ]
  },
  {
   "cell_type": "code",
   "execution_count": 5,
   "metadata": {},
   "outputs": [],
   "source": [
    "valence = [ +2.0, -1.0 ]\n",
    "site_labels = [ 'O', 'Ce' ]\n",
    "defect_labels = ['Vo', 'Gd']\n",
    "mole_fractions = np.array([ [ 0.05, 0.2 ] ])\n",
    "initial_guess = np.array([ [ 0.05, 0.2 ] ])\n",
    "mobilities = [ 1.0, 0.0 ]"
   ]
  },
  {
   "cell_type": "code",
   "execution_count": 6,
   "metadata": {},
   "outputs": [],
   "source": [
    "data_3 = '/Users/glw33/source/PYSCSES/userguides/input_data/Gd_CeO2_111_data.txt'"
   ]
  },
  {
   "cell_type": "code",
   "execution_count": null,
   "metadata": {},
   "outputs": [
    {
     "name": "stdout",
     "output_type": "stream",
     "text": [
      "0.0007420103961086874\n",
      "4.7849495517038794e-05\n",
      "6.450185951718764e-06\n"
     ]
    }
   ],
   "source": [
    "limits, laplacian_limits = calculate_grid_offsets( data_3, grid_x_min, grid_x_max, 'single' )\n",
    "\n",
    "for m in mole_fractions:\n",
    "    for t in temp:\n",
    "    \n",
    "        defect_species = { l : DefectSpecies( l, v, m, mob ) for l, v, m, mob in zip( defect_labels, valence, m, mobilities ) }\n",
    "\n",
    "        all_sites = Set_of_Sites.set_of_sites_from_input_data( data_3, [grid_x_min, grid_x_max], defect_species, site_charges, core_models, t )\n",
    "        if site_models == 'continuum':\n",
    "            all_sites = Set_of_Sites.form_continuum_sites_new( all_sites, grid_x_min, grid_x_max, 1000, b, c, defect_species, laplacian_limits, site_labels, defect_labels )\n",
    "        if systems == 'mott-schottky':\n",
    "            for site in all_sites.subset( 'Ce' ):\n",
    "                site.defect_with_label('Gd').fixed = True\n",
    "        if systems == 'gouy-chapman':\n",
    "            for site in all_sites.subset( 'Ce' ):\n",
    "                site.defect_with_label('Gd').fixed = False\n",
    "        grid = Grid.grid_from_set_of_sites( all_sites, limits, laplacian_limits, b, c )\n",
    " \n",
    "        c_o = Calculation( grid, bulk_x_min, bulk_x_max, alpha, conv, dielectric, t, boundary_conditions )\n",
    "        c_o.form_subgrids( site_labels )\n",
    "        if systems == 'gouy-chapman':\n",
    "            c_o.mole_fraction_correction( m, systems, initial_guess )\n",
    "        c_o.solve(systems)\n",
    "        c_o.mole_fractions()\n",
    "        c_o.calculate_resistivity_ratio( 'positive', 2e-2 )\n",
    "        c_o.solve_MS_approx_for_phi( valence[0] )\n",
    "\n",
    "print(c_o.ms_phi)"
   ]
  },
  {
   "cell_type": "code",
   "execution_count": null,
   "metadata": {},
   "outputs": [],
   "source": [
    "# from fig_params import rcParams\n",
    "# import fig_params as fp\n",
    "# rcParams.update( fp.transitionfig_formatting)\n",
    "plt.plot(grid.x, c_o.phi)\n",
    "plt.xlabel( '$x$ $\\mathrm{coordinate}$' )\n",
    "plt.ylabel('$\\Phi$ $\\mathrm{( eV )}$')\n",
    "plt.xlim( -5e-9, 5e-9)\n",
    "plt.ylim(min(c_o.phi))\n",
    "plt.show()\n",
    "\n",
    "plt.plot(grid.x, c_o.rho)\n",
    "plt.xlabel( '$x$ $\\mathrm{coordinate}$'  )\n",
    "plt.ylabel(' $ \\\\rho $ $(\\mathrm{C m}^{-1})$')\n",
    "plt.xlim( -5e-9, 5e-9)\n",
    "plt.ylim(min(c_o.rho))\n",
    "plt.show()\n",
    "\n",
    "plt.plot(grid.x, c_o.mf[site_labels[0]], label = '$\\mathrm{Vo}^{..}$', zorder = 5.0)\n",
    "plt.plot(grid.x, c_o.mf[site_labels[1]], label = '$\\mathrm{Gd}$', zorder = 4.0)\n",
    "plt.xlabel( '$x$ $\\mathrm{coordinate}$'  )\n",
    "plt.ylabel('$x_{i}$')\n",
    "plt.xlim( -5e-9, 5e-9)\n",
    "plt.ylim(0.0)\n",
    "plt.legend()\n",
    "plt.show()"
   ]
  },
  {
   "cell_type": "code",
   "execution_count": null,
   "metadata": {},
   "outputs": [],
   "source": [
    "print('perpendicular_resistivity_ratio=', c_o.perpendicular_resistivity_ratio)\n",
    "print('parallel_resistivity_ratio =', c_o.parallel_resistivity_ratio)"
   ]
  }
 ],
 "metadata": {
  "kernelspec": {
   "display_name": "Python 3",
   "language": "python",
   "name": "python3"
  },
  "language_info": {
   "codemirror_mode": {
    "name": "ipython",
    "version": 3
   },
   "file_extension": ".py",
   "mimetype": "text/x-python",
   "name": "python",
   "nbconvert_exporter": "python",
   "pygments_lexer": "ipython3",
   "version": "3.6.1"
  }
 },
 "nbformat": 4,
 "nbformat_minor": 2
}
