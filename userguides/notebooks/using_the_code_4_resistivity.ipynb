{
 "cells": [
  {
   "cell_type": "markdown",
   "metadata": {},
   "source": [
    "# Calculating the resistivity of the grain boundary.\n",
    "\n",
    "Once the Poisson-Boltzmann solver has converged, the potential, charge density and defect distributions have reached their equilibrium values. Using these equilibrium values the resistivity and activation energy can be calculated.\n",
    "\n",
    "Taking the resistivity ($\\rho$) as \n",
    "$$ \\rho = \\frac{1}{\\sigma} = \\frac{1}{ c \\mu z }$$\n",
    "\n",
    "Where $\\sigma$ is the conductivity, $c$ is the concentration, $\\mu$ is the mobility and $z$ is the valence. Treating each site as a resistor in series, the grain boundary resistivity can be calculated by taking the ratio of the sum of the resistivity at all sites to the resistivity in the bulk.\n",
    "\n",
    "$$ r_{GB} = \\frac{\\rho_{i,x}}{\\rho_{i, \\infty }} = \\frac{ c_{i, \\infty} \\mu_i x_i }{\\sum_x c_{i,x} \\mu_i z_i } $$\n",
    "\n",
    "Assuming constant mobility for the mobile defect across the space charge regions, the grain boundary resistivity becomes:\n",
    "\n",
    "$$ r_{GB} = \\frac{c_{i,\\infty}}{\\sum_x c_{i,x} } $$\n",
    "\n",
    "The resistivity ratio calculation in the code is only suitable when the Poisson-Boltzmann solver is used under the Mott-Schottky approximation as this method assumes that there is only one mobile defect. Once the resisitivity ratio has been calculated, it can be extended into an activation energy from the Arrhenius relationship.\n",
    "\n",
    "$$ E_a = \\frac{\\mathrm{d ln}r_{GB}}{\\mathrm{d}\\left( \\frac{1}{k_BT} \\right) } $$\n",
    "\n",
    "Below, the resistivity ratio has been calculated for the system where defects are specific to their sites, there is a site with two positively charged defects, followed by two sites which each have one negatively charged defect. The central positively charged defects have a segregation energy of -1.0 eV and the negatively charged defects are fixed to their bulk mole fractions under the Mott-Schottky approximation. The figure below shows the grain boundary resistivity for the system at a range of temperatures between 773.15 K and 1273.15 K. The resistivity decreases as temperature increases as expected.  "
   ]
  },
  {
   "cell_type": "code",
   "execution_count": 1,
   "metadata": {
    "collapsed": false
   },
   "outputs": [],
   "source": [
    "import sys\n",
    "sys.path.append('/Users/glw33/source/project')\n",
    "\n",
    "from project.defect_species import DefectSpecies\n",
    "from project.set_of_sites import Set_of_Sites\n",
    "from project.constants import boltzmann_eV\n",
    "from project.onedefect_onedopant_calculations import *\n",
    "from project.general_calculations import *\n",
    "from project.calculation import Calculation, calculate_activation_energies\n",
    "from project.mole_fraction_correction_3 import mole_fraction_correction\n",
    "from project.set_up_calculation import calculate_grid_offsets\n",
    "\n",
    "import numpy as np\n",
    "import pandas as pd\n",
    "import matplotlib.pyplot as plt\n",
    "from matplotlib import rc\n",
    "%matplotlib inline"
   ]
  },
  {
   "cell_type": "code",
   "execution_count": 16,
   "metadata": {
    "collapsed": false
   },
   "outputs": [
    {
     "name": "stdout",
     "output_type": "stream",
     "text": [
      "1.00249307479\n"
     ]
    }
   ],
   "source": [
    "alpha = 0.0005\n",
    "\n",
    "conv = 1e-8\n",
    "grid_x_min = -2.4e-8\n",
    "grid_x_max = +2.4e-8\n",
    "bulk_x_min = -2.2e-8\n",
    "bulk_x_max = +2.2e-8\n",
    "boundary_conditions='periodic'\n",
    "limits = [grid_x_min-5e-10, grid_x_max+5e-10]\n",
    "initial_guess = [0.2, 0.2]\n",
    "\n",
    "index = 111\n",
    "\n",
    "valence = [ +1.0, -1.0 ]\n",
    "site_labels = ['site_1', 'site_2']\n",
    "defect_labels = ['defect_1', 'defect_2']\n",
    "\n",
    "dielectric = 50\n",
    "b = 1e-9\n",
    "c = 1e-9\n",
    "\n",
    "temp = [ 773.15]\n",
    "mole_fractions = [[0.2,0.2]]\n",
    "\n",
    "desired_mobile_defect_mf = 0.2\n",
    "percentage_dopant = 20\n",
    "\n",
    "data_2 = '/Users/glw33/source/project/userguides/input_data/example_data_zero_seg_energies.txt' \n",
    "#limits = calculate_grid_offsets( data_2, grid_x_min, grid_x_max )\n",
    "\n",
    "for m in mole_fractions:\n",
    "    defect_species = { l : DefectSpecies( l, v, m ) for l, v, m in zip( defect_labels, valence, m ) }\n",
    "\n",
    "    all_sites = Set_of_Sites.set_of_sites_from_input_data( data_2, [grid_x_min, grid_x_max], defect_species )\n",
    "    for site in all_sites.subset( 'Ce' ):\n",
    "        site.defect_with_label('Gd').fixed = True\n",
    "\n",
    "    grid = Grid.grid_from_set_of_sites( all_sites, limits[0], limits[1], b, c )\n",
    "\n",
    "    for t in temp:\n",
    " \n",
    "        c_o = Calculation( grid, bulk_x_min, bulk_x_max, alpha, conv, t, boundary_conditions, initial_guess )\n",
    "#        c_o.mole_fraction_correction( m )\n",
    "        c_o.solve()\n",
    "        c_o.form_subgrids( site_labels )\n",
    "        c_o.mole_fractions()\n",
    "#        c_o.phi = c_o.phi - (c_o.phi[1]/3)\n",
    "        c_o.calculate_resistivity_ratio(m[0])\n",
    "        print(c_o.resistivity_ratio)\n",
    "\n",
    "# resistivity_ratio_list = []\n",
    "\n",
    "# boundary_conditions = 'periodic'\n",
    "\n",
    "# for t, m in zip( temp, mole_fractions ):\n",
    "#     defect_species = { l : DefectSpecies( l, v, m ) for l, v, m in zip( defect_labels, valence, m) }\n",
    "    \n",
    "#     all_sites = Set_of_Sites.set_of_sites_from_input_data( data_2, limits, defect_species )\n",
    "#     for site in all_sites.subset( 'site_2' ):\n",
    "#         site.defect_with_label('defect_2').fixed = True\n",
    "        \n",
    "#     grid = Grid.grid_from_set_of_sites( all_sites, limits[0], limits[1], b, c )\n",
    "    \n",
    "#     calculation_object = Calculation( grid, alpha, conv, t, boundary_conditions )\n",
    "    \n",
    "#     calculation_object.solve()\n",
    "#     calculation_object.form_subgrids( site_labels )\n",
    "#     calculation_object.calculate_resistivity_ratio( desired_mobile_defect_mf )\n",
    "#     calculation_object.mole_fractions\n",
    "#     print(calculation_object.resistivity_ratio)\n",
    "    \n",
    "#     resistivity_ratio_list.append( calculation_object.resistivity_ratio )"
   ]
  },
  {
   "cell_type": "code",
   "execution_count": 12,
   "metadata": {
    "collapsed": false
   },
   "outputs": [
    {
     "ename": "NameError",
     "evalue": "name 'resistivity_ratio_list' is not defined",
     "output_type": "error",
     "traceback": [
      "\u001b[0;31m---------------------------------------------------------------------------\u001b[0m",
      "\u001b[0;31mNameError\u001b[0m                                 Traceback (most recent call last)",
      "\u001b[0;32m<ipython-input-12-cc6a2203d796>\u001b[0m in \u001b[0;36m<module>\u001b[0;34m()\u001b[0m\n\u001b[0;32m----> 1\u001b[0;31m \u001b[0mplt\u001b[0m\u001b[0;34m.\u001b[0m\u001b[0mplot\u001b[0m\u001b[0;34m(\u001b[0m \u001b[0mtemp\u001b[0m\u001b[0;34m,\u001b[0m \u001b[0mresistivity_ratio_list\u001b[0m\u001b[0;34m)\u001b[0m\u001b[0;34m\u001b[0m\u001b[0m\n\u001b[0m\u001b[1;32m      2\u001b[0m \u001b[0mplt\u001b[0m\u001b[0;34m.\u001b[0m\u001b[0mxlabel\u001b[0m\u001b[0;34m(\u001b[0m \u001b[0;34m' Temperature (K)'\u001b[0m \u001b[0;34m)\u001b[0m\u001b[0;34m\u001b[0m\u001b[0m\n\u001b[1;32m      3\u001b[0m \u001b[0mplt\u001b[0m\u001b[0;34m.\u001b[0m\u001b[0mylabel\u001b[0m\u001b[0;34m(\u001b[0m \u001b[0;34m' GB resistivity'\u001b[0m \u001b[0;34m)\u001b[0m\u001b[0;34m\u001b[0m\u001b[0m\n\u001b[1;32m      4\u001b[0m \u001b[0mplt\u001b[0m\u001b[0;34m.\u001b[0m\u001b[0mshow\u001b[0m\u001b[0;34m(\u001b[0m\u001b[0;34m)\u001b[0m\u001b[0;34m\u001b[0m\u001b[0m\n",
      "\u001b[0;31mNameError\u001b[0m: name 'resistivity_ratio_list' is not defined"
     ]
    }
   ],
   "source": [
    "plt.plot( temp, resistivity_ratio_list)\n",
    "plt.xlabel( ' Temperature (K)' )\n",
    "plt.ylabel( ' GB resistivity' )\n",
    "plt.show()"
   ]
  },
  {
   "cell_type": "markdown",
   "metadata": {},
   "source": [
    "The activation energy can then be calculated from the Arrhenius relationship as described above using the ```calculate_activation_energy``` function in the source code. The function takes the resistivity ratio and temperature as input, calculates $x$ as $\\frac{1}{T}$ and $y$ as $ \\mathrm{ln} \\left( \\frac{1}{r_{GB}}\\right) $. The slope at each point is calculated using a central difference method and the activation energy is calculated as the slope * Boltzmann constant. "
   ]
  },
  {
   "cell_type": "code",
   "execution_count": null,
   "metadata": {
    "collapsed": false
   },
   "outputs": [],
   "source": [
    "Ea = calculate_activation_energy( resistivity_ratio_list, temp ) \n",
    "plt.plot( temp[1:-1], Ea )\n",
    "plt.xlabel( ' Temperature (K)' )\n",
    "plt.ylabel( ' Activation energy (eV)' )"
   ]
  },
  {
   "cell_type": "code",
   "execution_count": null,
   "metadata": {
    "collapsed": true
   },
   "outputs": [],
   "source": []
  }
 ],
 "metadata": {
  "kernelspec": {
   "display_name": "Python 3",
   "language": "python",
   "name": "python3"
  },
  "language_info": {
   "codemirror_mode": {
    "name": "ipython",
    "version": 3
   },
   "file_extension": ".py",
   "mimetype": "text/x-python",
   "name": "python",
   "nbconvert_exporter": "python",
   "pygments_lexer": "ipython3",
   "version": "3.5.2"
  }
 },
 "nbformat": 4,
 "nbformat_minor": 2
}
