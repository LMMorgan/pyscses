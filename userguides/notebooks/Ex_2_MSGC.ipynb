{
 "cells": [
  {
   "cell_type": "markdown",
   "metadata": {},
   "source": [
    "# Example 2 - Mott-Schottky vs. Gouy-Chapman conditions\n",
    "\n",
    "space charge models typically consider dopant ions as either mobile or immobile. If the dopant ions are considered immobile, the model follows a Mott-Schottky approximation. If the dopant ions are considered mobile, the model follows a Gouy-Chapman approximation."
   ]
  },
  {
   "cell_type": "code",
   "execution_count": null,
   "metadata": {},
   "outputs": [],
   "source": [
    "from pyscses.defect_species import DefectSpecies\n",
    "from pyscses.set_of_sites import Set_of_Sites\n",
    "from pyscses.constants import boltzmann_eV\n",
    "from pyscses.calculation import Calculation, calculate_activation_energies\n",
    "from pyscses.set_up_calculation import calculate_grid_offsets\n",
    "from pyscses.grid import Grid\n",
    "\n",
    "import numpy as np\n",
    "import pandas as pd\n",
    "import matplotlib.pyplot as plt\n",
    "%matplotlib inline"
   ]
  },
  {
   "cell_type": "code",
   "execution_count": null,
   "metadata": {},
   "outputs": [],
   "source": [
    "boundary_conditions = 'dirichlet'\n",
    "site_charges = False\n",
    "systems = 'gouy-chapman'\n",
    "core_models = False\n",
    "site_models = 'continuum'"
   ]
  },
  {
   "cell_type": "code",
   "execution_count": null,
   "metadata": {},
   "outputs": [],
   "source": [
    "alpha = 0.0005\n",
    "\n",
    "conv = 1e-8\n",
    "grid_x_min = -2.0e-8\n",
    "grid_x_max = +2.0e-8\n",
    "bulk_x_min = -2.0e-8\n",
    "bulk_x_max = -1.0e-8\n",
    "\n",
    "dielectric = 1\n",
    "\n",
    "index = 111\n",
    "\n",
    "b = 5e-9\n",
    "c = 5e-9\n",
    "\n",
    "temp = [773.15]"
   ]
  },
  {
   "cell_type": "code",
   "execution_count": null,
   "metadata": {},
   "outputs": [],
   "source": [
    "valence = [ +1.0, -1.0 ]\n",
    "site_labels = ['site_1', 'site_2']\n",
    "defect_labels = ['defect_1', 'defect_2']\n",
    "mole_fractions = [ [ 0.2, 0.2 ] ]\n",
    "initial_guess = [ [ 0.2, 0.2 ] ]"
   ]
  },
  {
   "cell_type": "markdown",
   "metadata": {},
   "source": [
    "**Example 1 - Gouy-Chapman**\n",
    "\n",
    "```\n",
    "systems = 'gouy-chapman'\n",
    "```\n",
    "\n",
    "The first approximation that can be applied is Gouy-Chapman conditions. This states that all defects in the system are mobile and able to redistribute over the system."
   ]
  },
  {
   "cell_type": "code",
   "execution_count": null,
   "metadata": {},
   "outputs": [],
   "source": [
    "data = '../input_data/example_data_2_one_seg_energies.txt'"
   ]
  },
  {
   "cell_type": "code",
   "execution_count": null,
   "metadata": {},
   "outputs": [],
   "source": [
    "limits, laplacian_limits = calculate_grid_offsets( data, grid_x_min, grid_x_max, 'single' )\n",
    "\n",
    "for m in mole_fractions:\n",
    "    for t in temp:\n",
    "    \n",
    "        defect_species = { l : DefectSpecies( l, v, m, mob ) for l, v, m, mob in zip( defect_labels, valence, m, mobilities ) }\n",
    "\n",
    "        all_sites = Set_of_Sites.set_of_sites_from_input_data( data, [grid_x_min, grid_x_max], defect_species, site_charges, core_models, t )\n",
    "        if site_models == 'continuum':\n",
    "            all_sites, limits = Set_of_Sites.form_continuum_sites( all_sites, grid_x_min, grid_x_max, 1000, b, c, defect_species, laplacian_limits, site_labels, defect_labels )\n",
    "        if systems == 'mott-schottky':\n",
    "            for site in all_sites.subset( 'site_2' ):\n",
    "                site.defect_with_label('defect_2').fixed = True\n",
    "        if systems == 'gouy-chapman':\n",
    "            for site in all_sites.subset( 'site_2' ):\n",
    "                site.defect_with_label('defect_2').fixed = False\n",
    "        grid = Grid.grid_from_set_of_sites( all_sites, limits, laplacian_limits, b, c )\n",
    "        \n",
    "        c_o = Calculation( grid, bulk_x_min, bulk_x_max, alpha, conv, dielectric, t, boundary_conditions )\n",
    "        c_o.form_subgrids( site_labels )\n",
    "        if systems == 'gouy-chapman':\n",
    "            c_o.mole_fraction_correction( m, systems, initial_guess )\n",
    "        c_o.solve(systems)\n",
    "        c_o.mole_fractions()\n",
    "        c_o.calculate_resistivity_ratio( 'positive', 2e-2 )"
   ]
  },
  {
   "cell_type": "code",
   "execution_count": null,
   "metadata": {},
   "outputs": [],
   "source": [
    "plt.plot(grid.x, c_o.phi)\n",
    "plt.xlabel( '$x$ $\\mathrm{coordinate}$' )\n",
    "plt.ylabel('$\\Phi$ $\\mathrm{( eV )}$')\n",
    "plt.show()\n",
    "\n",
    "plt.plot(grid.x, c_o.rho)\n",
    "plt.xlabel( '$x$ $\\mathrm{coordinate}$'  )\n",
    "plt.ylabel(' $\\mathrm{charge density}$ $(\\mathrm{C m}^{-1})$')\n",
    "plt.show()\n",
    "\n",
    "plt.plot(grid.x, c_o.mf[site_labels[1]], label = '$\\mathrm{defect_1}$')\n",
    "plt.plot(grid.x, c_o.mf[site_labels[0]], label = '$\\mathrm{defect_2}$')\n",
    "plt.xlabel( '$x$ $\\mathrm{coordinate}$'  )\n",
    "plt.ylabel('$x_{i}$')\n",
    "plt.legend()\n",
    "plt.show()"
   ]
  },
  {
   "cell_type": "markdown",
   "metadata": {},
   "source": [
    "**Example 2 - Mott-Schottky**\n",
    "\n",
    "```\n",
    "systems = 'mott-schottky'\n",
    "```\n",
    "\n",
    "The second approximation that can be applied is Mott-Schottky conditions. This states that one or more of the defects in the system are immobile and not able to redistibute over the system. For the calculation, these defect species are fixed to their bulk mole fractions. \n",
    "\n",
    "```\n",
    "for site in all_sites.subset( 'site_2' ):\n",
    "        site.defect_with_label('defect_2').fixed = True\n",
    "``` "
   ]
  },
  {
   "cell_type": "code",
   "execution_count": null,
   "metadata": {},
   "outputs": [],
   "source": [
    "systems = 'mott-schottky'\n",
    "\n",
    "limits, laplacian_limits = calculate_grid_offsets( data, grid_x_min, grid_x_max, 'single' )\n",
    "\n",
    "for m in mole_fractions:\n",
    "    for t in temp:\n",
    "    \n",
    "        defect_species = { l : DefectSpecies( l, v, m, mob ) for l, v, m, mob in zip( defect_labels, valence, m, mobilities ) }\n",
    "\n",
    "        all_sites = Set_of_Sites.set_of_sites_from_input_data( data, [grid_x_min, grid_x_max], defect_species, site_charges, core_models, t )\n",
    "        if site_models == 'continuum':\n",
    "            all_sites, limits = Set_of_Sites.form_continuum_sites( all_sites, grid_x_min, grid_x_max, 1000, b, c, defect_species, laplacian_limits, site_labels, defect_labels )\n",
    "        if systems == 'mott-schottky':\n",
    "            for site in all_sites.subset( 'site_2' ):\n",
    "                site.defect_with_label('defect_2').fixed = True\n",
    "        if systems == 'gouy-chapman':\n",
    "            for site in all_sites.subset( 'site_2' ):\n",
    "                site.defect_with_label('defect_2').fixed = False\n",
    "        grid = Grid.grid_from_set_of_sites( all_sites, limits, laplacian_limits, b, c )\n",
    "        \n",
    "        c_o = Calculation( grid, bulk_x_min, bulk_x_max, alpha, conv, dielectric, t, boundary_conditions )\n",
    "        c_o.form_subgrids( site_labels )\n",
    "        if systems == 'gouy-chapman':\n",
    "            c_o.mole_fraction_correction( m, systems, initial_guess )\n",
    "        c_o.solve(systems)\n",
    "        c_o.mole_fractions()\n",
    "        c_o.calculate_resistivity_ratio( 'positive', 2e-2 )"
   ]
  },
  {
   "cell_type": "code",
   "execution_count": null,
   "metadata": {},
   "outputs": [],
   "source": [
    "plt.plot(grid.x, c_o.phi)\n",
    "plt.xlabel( '$x$ $\\mathrm{coordinate}$' )\n",
    "plt.ylabel('$\\Phi$ $\\mathrm{( eV )}$')\n",
    "plt.show()\n",
    "\n",
    "plt.plot(grid.x, c_o.rho)\n",
    "plt.xlabel( '$x$ $\\mathrm{coordinate}$'  )\n",
    "plt.ylabel(' $\\mathrm{charge density}$ $(\\mathrm{C m}^{-1})$')\n",
    "plt.show()\n",
    "\n",
    "plt.plot(grid.x, c_o.mf[site_labels[1]], label = '$\\mathrm{defect_1}$')\n",
    "plt.plot(grid.x, c_o.mf[site_labels[0]], label = '$\\mathrm{defect_2}$')\n",
    "plt.xlabel( '$x$ $\\mathrm{coordinate}$'  )\n",
    "plt.ylabel('$x_{i}$')\n",
    "plt.legend()\n",
    "plt.show()"
   ]
  },
  {
   "cell_type": "markdown",
   "metadata": {},
   "source": [
    "It can be seen in the figures above that when ```fixed = True ``` and the Poisson-Boltzmann equation is being calculated under Mott-schottky conditions ```defect_1``` is able to redistribute whilst ``` defect_2 ``` is fixed to its bulk value. As the negatively charged ```defect_2``` are fixed to its bulk positions they are not electrostatically attracted to the positively charged grain boundary core caused by the segregation of the positively charged ```defect_1```. This causes a larger electrostatic potential at the grain boundary core as the segregation is not limited by the repulsion of the negatively charged defects adjacent to the core and also a broader potential profile as the negatively charged defects are not shielding the positive potential."
   ]
  },
  {
   "cell_type": "code",
   "execution_count": null,
   "metadata": {},
   "outputs": [],
   "source": []
  }
 ],
 "metadata": {
  "kernelspec": {
   "display_name": "Python 2",
   "language": "python",
   "name": "python2"
  },
  "language_info": {
   "codemirror_mode": {
    "name": "ipython",
    "version": 2
   },
   "file_extension": ".py",
   "mimetype": "text/x-python",
   "name": "python",
   "nbconvert_exporter": "python",
   "pygments_lexer": "ipython2",
   "version": "2.7.15"
  }
 },
 "nbformat": 4,
 "nbformat_minor": 2
}
