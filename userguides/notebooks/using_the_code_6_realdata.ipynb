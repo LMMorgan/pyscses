{
 "cells": [
  {
   "cell_type": "markdown",
   "metadata": {},
   "source": [
    "# Using the Poisson-Boltzmann solver code with real data. \n",
    "\n",
    "This example uses real data generated for the 111 grain boundary orientation in gadolinium doped ceria ( $\\mathrm{Gd-CeO_2}$ ). The data was generated using METADISE which is a computer program that performs atomic scale simulations of crystal structures. These simulations allow dislocations, surfaces and interfaces to be studied. METADISE has been used to study a number of grain boundaries in gadolinium doped ceria and individual defect energies and positions were calculated for gadolinium ions at cerium sites and vacancies at oxygen sites. "
   ]
  },
  {
   "cell_type": "code",
   "execution_count": 1,
   "metadata": {
    "collapsed": false
   },
   "outputs": [],
   "source": [
    "import os\n",
    "os.getcwd()\n",
    "\n",
    "import sys\n",
    "sys.path.append('/Users/glw33/source/project')\n",
    "\n",
    "from project.defect_species import Defect_Species\n",
    "from project.set_of_sites import Set_of_Sites\n",
    "from project.constants import boltzmann_eV\n",
    "from project.onedefect_onedopant_calculations import *\n",
    "from project.general_calculations import *\n",
    "from project.calculation import Calculation\n",
    "from project.mole_fraction_correction import mole_fraction_correction\n",
    "\n",
    "import numpy as np\n",
    "import pandas as pd\n",
    "import matplotlib.pyplot as plt\n",
    "from matplotlib import rc\n",
    "%matplotlib inline"
   ]
  },
  {
   "cell_type": "code",
   "execution_count": 2,
   "metadata": {
    "collapsed": true
   },
   "outputs": [],
   "source": [
    "boundary_conditions = 'dirichlet'\n",
    "\n",
    "alpha = 0.0005\n",
    "\n",
    "conv = 1e-8\n",
    "grid_x_min = -2.5e-8\n",
    "grid_x_max = +2.5e-8\n",
    "\n",
    "limits = [grid_x_min-5e-10, grid_x_max+5e-10]\n",
    "\n",
    "bulk_region_x_min = 1.4e-8 \n",
    "bulk_region_x_max = 1.8e-8\n",
    "\n",
    "bulk_limits = [ bulk_region_x_min-5e-10, bulk_region_x_max+5e-10 ]\n",
    "\n",
    "dielectric = 55\n",
    "\n",
    "index = 111\n",
    "b = 7.65327e-10\n",
    "c = 7.65327e-10\n",
    "\n",
    "temp = [ 573.15, 673.15, 773.15, 873.15, 973.15, 1073.15, 1173.15, 1273.15, 1373.15, 1473.15, 1573.15, 1673.15, 1773.15, 1873.15 ]"
   ]
  },
  {
   "cell_type": "code",
   "execution_count": 3,
   "metadata": {
    "collapsed": true
   },
   "outputs": [],
   "source": [
    "data_3 = '/Users/glw33/source/project/userguides/input_data/111_new_data_string.txt'"
   ]
  },
  {
   "cell_type": "code",
   "execution_count": 4,
   "metadata": {
    "collapsed": true
   },
   "outputs": [],
   "source": [
    "valence = [ +2.0, -1.0 ]\n",
    "site_labels = [ 'O', 'Ce' ]\n",
    "defect_labels = ['Vo', 'Gd']\n",
    "mole_fractions = np.array([ [ 0.01, 0.04 ], [ 0.0125, 0.05 ], [ 0.025, 0.1 ], [ 0.0375, 0.15 ], [ 0.05, 0.2 ], [ 0.0625, 0.25 ], [ 0.075, 0.3 ], [ 0.0875, 0.35 ] ])"
   ]
  },
  {
   "cell_type": "markdown",
   "metadata": {},
   "source": [
    "### Output defect mole fractions.\n",
    "\n",
    "When the calculation is run on this real system, the bulk mole fraction of each defect species in the output is less than the desired bulk mole fraction for each defect, therefore a correction is required to ensure that that bulk mole fraction of each defect in the output is what it should be. \n",
    "To achieve this, an array of 8 different mole fractions between [0.01, 0.04] and [0.0875, 0.35] (as defined above) are used as the input for the calculation at each temperature and a `bulk_region_x_min` and a `bulk_region_x_max` selected so there is no grain boundary effects. Once the calculation has been completed for each of the mole fractions at a given temperture, a linear regression is performed on the input mole fraction against the output mole fraction. Once the slope and intercept has been obtained the mole fraction required as input to give the desired mole fraction as output can be calculated. This is done for each temperature and the results stored in an array called mole fractions (overwriting the original array)."
   ]
  },
  {
   "cell_type": "code",
   "execution_count": 5,
   "metadata": {
    "collapsed": true
   },
   "outputs": [],
   "source": [
    "# # Empty lists are created to store the slope and intercept from the linear regression.\n",
    "# slope_list = []\n",
    "# intercept_list = []\n",
    "\n",
    "# # fixed refers to whether the immobile defect is to be fixed to its bulk mole fraction.\n",
    "# fixed = True\n",
    "\n",
    "# # Loops over temperature.\n",
    "# for t in temp:\n",
    "#     # Creates an empty list to store the uncorrected output mole fractions.\n",
    "#     avg_Vo_molfracs = []\n",
    "#     # Loops over input mole fractions. \n",
    "#     for m in mole_fractions:\n",
    "#         # From the system specific constants a defect species is produced by zipping together the defect label, valence and mole fraction for each species.\n",
    "#         defect_species = { l : Defect_Species( l, v, m ) for l, v, m in zip( defect_labels, valence, m) }\n",
    "#         data_file = open( data_3, 'r')\n",
    "#         # Each line in the input data file is read and split into individual strings.\n",
    "#         # These individual strings are then created into sites providing the second element on each line ( the x coordinate)\n",
    "#         # is within the range defined. These sites are then compiled into a list 'all_sites'\n",
    "#         input_data = [ line.split() for line in data_file.readlines() ]\n",
    "#         input_data = [ line for line in input_data if ( float(line[1]) > bulk_region_x_min and float(line[1]) < bulk_region_x_max ) ] \n",
    "#         all_sites = Set_of_Sites( [ site_from_input_file( line, defect_species ) for line in input_data ] )\n",
    "#         # This fixes the immobile defect to its bulk mole fraction throughout the calculation. Assuming Mott-Schottky conditions.\n",
    "#         for site in all_sites.subset( 'Ce' ):\n",
    "#             site.defect_with_label('Gd').fixed = True\n",
    "#         # Runs the Poisson-Boltzmann solver and returns the output mole fraction. \n",
    "#         avg_Vo_MF = calculate_average_molefraction( t, bulk_region_x_min, bulk_region_x_max, b, c, index, alpha, conv, all_sites, site_labels, 'dirichlet')\n",
    "#         avg_Vo_molfracs.append( avg_Vo_MF ) \n",
    "#     # the linear regression is performed on the input and output mole fractions. \n",
    "#     slope, intercept, rvalue, pvalue, stderr = stats.linregress( mole_fractions[:,0], avg_Vo_molfracs )\n",
    "#     slope_list.append( slope )\n",
    "#     intercept_list.append( intercept )\n",
    "\n",
    "# # The percentage gadolinium content is defined here and is converted into a desired mole fraction for the 'real' calculation.\n",
    "# percentage_Gd = 20\n",
    "# desired_mobile_defect_MF = ( percentage_Gd / 100 ) / 4\n",
    "# # The input mole fractions that will give the desired output mole fractions for the given percentage gadolinium content are calculated from the linear regreassion results.\n",
    "# # This is done for each temperature and is compiled into an array overwriting the original mole_fractions array.\n",
    "# mole_fractions = np.array( [ MF( desired_mobile_defect_MF, s, i ) for s, i in zip( slope_list, intercept_list ) ] )"
   ]
  },
  {
   "cell_type": "code",
   "execution_count": null,
   "metadata": {
    "collapsed": false
   },
   "outputs": [],
   "source": [
    "# slope_list = []\n",
    "# intercept_list = []\n",
    "\n",
    "# for t in temp:\n",
    "#     Vo_molfracs = []\n",
    "#     avg_Vo_molfracs = []\n",
    "    \n",
    "#     for m in mole_fractions:\n",
    "        \n",
    "#         defect_species = { l : Defect_Species( l, v, m ) for l, v, m in zip( defect_labels, valence, m) }\n",
    "    \n",
    "#         all_sites = Set_of_Sites.set_of_sites_from_input_data( data_3, bulk_limits, defect_species )\n",
    "#         for site in all_sites.subset( 'site_2' ):\n",
    "#             site.defect_with_label('defect_2').fixed = True\n",
    "        \n",
    "#         grid = Grid.grid_from_set_of_sites( all_sites, bulk_limits[0], bulk_limits[1], b, c )\n",
    "       \n",
    "    \n",
    "#         calculation_object = Calculation( grid, alpha, conv, t, boundary_conditions )\n",
    "#         calculation_object.solve()\n",
    "#         calculation_object.form_subgrids(site_labels)\n",
    "#         calculation_object.mole_fractions\n",
    "#         for mf in calculation_object.mf[site_labels[0]]:\n",
    "#             if mf > 0.0:\n",
    "#                 Vo_molfracs.append(mf)\n",
    "#         avg_Vo_molfracs.append(np.mean(Vo_molfracs))\n",
    "#     slope, intercept, rvalue, pvalue, stderr = stats.linregress( mole_fractions[:,0], avg_Vo_molfracs )\n",
    "#     slope_list.append( slope )\n",
    "#     intercept_list.append( intercept )\n",
    "    \n",
    "# percentage_Gd = 20\n",
    "# desired_mobile_defect_MF = ( percentage_Gd / 100 ) / 4\n",
    "# mole_fractions = np.array( [ MF( desired_mobile_defect_MF, s, i ) for s, i in zip( slope_list, intercept_list ) ] )"
   ]
  },
  {
   "cell_type": "markdown",
   "metadata": {},
   "source": [
    "### Running the Poisson-Boltzmann solver and calculating the grain boundary properties.\n",
    "\n",
    "Once the input mole fractions have been calculated, the Poisson-Boltzmann solver is run."
   ]
  },
  {
   "cell_type": "code",
   "execution_count": null,
   "metadata": {
    "collapsed": false
   },
   "outputs": [],
   "source": [
    "mole_fractions = mole_fraction_correction( temp, mole_fractions, defect_labels, valence, data_3, \n",
    "                                           limits, b, c, alpha, conv, boundary_conditions, site_labels )\n",
    "\n",
    "labels=[ 'temp', 'r_gb', 'max phi', 'MS phi', 'Debye length', 'space charge width' ]\n",
    "data = pd.DataFrame( columns=labels )\n",
    "\n",
    "boundary_conditions = 'periodic'\n",
    "\n",
    "defect_species = { l : Defect_Species( l, v, m ) for l, v, m in zip( defect_labels, valence, mole_fractions ) }\n",
    "\n",
    "all_sites = Set_of_Sites.set_of_sites_from_input_data( data_3, limits, defect_species )\n",
    "for site in all_sites.subset( 'Ce' ):\n",
    "    site.defect_with_label('Gd').fixed = True\n",
    "\n",
    "grid = Grid.grid_from_set_of_sites( all_sites, limits[0], limits[1], b, c )\n",
    "\n",
    "for t in temp:\n",
    "\n",
    "    c_o = Calculation( grid, alpha, conv, t, boundary_conditions )\n",
    "    \n",
    "    c_o.solve()\n",
    "    c_o.form_subgrids( site_labels )\n",
    "    c_o.mole_fractions\n",
    "    c_o.calculate_resistivity_ratio( desired_mobile_defect_mf )\n",
    "    c_o.solve_MS_approx_for_phi( valence[0] )\n",
    "    c_o.calculate_debye_length()\n",
    "    c_o.calculate_space_charge_width( valence[0] )\n",
    "    \n",
    "    data = data.append( pd.DataFrame( [[ t, c_o.resistivity_ratio, max( c_o.phi ), c_o.ms_phi, \n",
    "                               c_o.debye_length, c_o.space_charge_width ]], columns=labels ) )"
   ]
  },
  {
   "cell_type": "code",
   "execution_count": null,
   "metadata": {
    "collapsed": true
   },
   "outputs": [],
   "source": [
    "plt.plot(grid.x, c_o.phi)\n",
    "plt.xlabel( '$x$ $\\mathrm{coordinate}$' )\n",
    "\n",
    "plt.ylabel('$\\Phi$ $\\mathrm{( eV )}$')\n",
    "plt.show()\n",
    "\n",
    "plt.plot(grid.x, c_o.rho)\n",
    "plt.xlabel( '$x$ $\\mathrm{coordinate}$'  )\n",
    "plt.ylabel(' $\\mathrm{charge density}$ $(\\mathrm{C m}^{-1})$')\n",
    "plt.show()\n",
    "\n",
    "plt.plot(grid.x, c_o.mf[site_labels[0]], label = '$\\mathrm{defect_1}$')\n",
    "plt.plot(grid.x, c_o.mf[site_labels[1]], label = '$\\mathrm{defect_2}$')\n",
    "plt.xlabel( '$x$ $\\mathrm{coordinate}$'  )\n",
    "plt.ylabel('$x_{i}$')\n",
    "plt.legend()\n",
    "plt.show()"
   ]
  }
 ],
 "metadata": {
  "kernelspec": {
   "display_name": "Python 3",
   "language": "python",
   "name": "python3"
  },
  "language_info": {
   "codemirror_mode": {
    "name": "ipython",
    "version": 3
   },
   "file_extension": ".py",
   "mimetype": "text/x-python",
   "name": "python",
   "nbconvert_exporter": "python",
   "pygments_lexer": "ipython3",
   "version": "3.5.2"
  }
 },
 "nbformat": 4,
 "nbformat_minor": 2
}
