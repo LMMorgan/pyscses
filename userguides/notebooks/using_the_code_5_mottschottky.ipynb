{
 "cells": [
  {
   "cell_type": "markdown",
   "metadata": {},
   "source": [
    "# Mott-Schottky model for calculating the space charge potential\n",
    "\n",
    "Analysis of grain boundary effects on ionic conductivity typically considers the space-charge potential as a characteristic parameter. However $r_{GB}$ can be obtained directly from experimental impedance spectroscopy, whereas the space charge potential cannot and is therefore approximated using the Mott-Schottky model. \n",
    "\n",
    "$$ r_{GB} = \\frac{\\rho_{i,x}}{\\rho_{i,\\infty}} = \\frac{\\mathrm{exp}(z\\Phi_0 / k_BT)}{2z \\Phi_0 / k_BT } $$\n",
    "\n",
    "The conventional Mott-Schottky analysis assumes that the grain boundart region is negligably thin and that oxygen vacancies are fully depleted in the space-charge region. This gives an analytical description of the space-charge behaviour which can be completely characterised from the space charge potential. \n",
    "\n",
    "By calculating the grain boundary resistivity of the system, the Mott-Schotty model can be used to calculate the space charge potential allowing a comparison between the value calculated using the Poisson-Boltzmann solver and the value calculated using the Mott-Schottky model. \n",
    "\n",
    "Using ```sympy.solvers.solve ``` the function required to solve the Mott-Scottky model for $\\Phi$ was calculated. \n",
    "\n",
    "```\n",
    "x = Symbol('x')\n",
    "y = Symbol('y')\n",
    "\n",
    "print( solve (exp(x) / ( 2 * x ) - y, x )  )\n",
    "\n",
    "\n",
    "[-LambertW(-1/(2*y))]\n",
    "```\n",
    "\n",
    "A function named ```solve_MS_for_phi``` was created in the source code which takes the input ```y```, the grain boundary resistivity, and returns ``` -mpmath.lambertw(-1/(2*y),k=-1) ```. The output for this is then multiplied by the Boltzmann constant, and the temperature, and divided by the charge to give the space charge potential."
   ]
  },
  {
   "cell_type": "markdown",
   "metadata": {},
   "source": [
    "# The Debye length and space charge width\n",
    "\n",
    "The Poisson-Boltzmann equation can be manipulated to give the Debye length. The Debye length is the \"characteristic length scale\" from the Debye-Huckel equation, which is the linearised Poisson-Boltzmann equation used for dilute systems.\n",
    "\n",
    "$$ L_D = \\left( \\frac{\\epsilon \\epsilon_0 k_BT}{2 F^2 c_{i, \\infty } } \\right) ^ \\frac{1}{2} $$\n",
    "\n",
    "Where $L_D$ is the Debye length, $\\epsilon$ is the dielectric, $\\epsilon_0$ is the vacuum permittivity, $k_B$ is the Boltzmann constant, $T$ is the temperature, $F$ is Faraday's constant and $c_{i,\\infty}$ is the bulk defect density. \n",
    "$L_D$ is then used to calculate the width of the space charge region.\n",
    "\n",
    "$$ \\delta_{sc} = 2L_D \\left(\\frac{\\Phi_0 z}   {k_BT} \\right)^ \\frac{1}{2}$$\n",
    "\n",
    "Where $\\Phi_0$ is the space charge potential. The space charge potential can be calculated from the Poisson-Boltzmann equation or from the Mott-Schottky model to find their respective space charge widths. "
   ]
  },
  {
   "cell_type": "code",
   "execution_count": 1,
   "metadata": {
    "collapsed": true
   },
   "outputs": [],
   "source": [
    "import os\n",
    "os.getcwd()\n",
    "\n",
    "import sys\n",
    "sys.path.append('/Users/glw33/source/project')\n",
    "\n",
    "from project.defect_species import Defect_Species\n",
    "from project.set_of_sites import Set_of_Sites\n",
    "from project.calculation import Calculation\n",
    "from project.constants import boltzmann_eV\n",
    "from project.onedefect_onedopant_calculations import *\n",
    "from project.general_calculations import *\n",
    "\n",
    "import numpy as np\n",
    "import pandas as pd\n",
    "import matplotlib.pyplot as plt\n",
    "from matplotlib import rc\n",
    "%matplotlib inline"
   ]
  },
  {
   "cell_type": "code",
   "execution_count": 2,
   "metadata": {
    "collapsed": false
   },
   "outputs": [],
   "source": [
    "alpha = 0.0005\n",
    "\n",
    "conv = 1e-8\n",
    "grid_x_min = -2.5e-8\n",
    "grid_x_max = +2.5e-8\n",
    "\n",
    "limits = [grid_x_min-5e-10, grid_x_max+5e-10]\n",
    "\n",
    "index = 111\n",
    "\n",
    "valence = [ +1.0, -1.0 ]\n",
    "site_labels = ['site_1', 'site_2']\n",
    "defect_labels = ['defect_1', 'defect_2']\n",
    "\n",
    "dielectric = 50\n",
    "len_b = 1e-9\n",
    "len_c = 1e-9\n",
    "\n",
    "temp = [ 773.15 ]\n",
    "mole_fractions = [0.2, 0.2]\n",
    "\n",
    "desired_mobile_defect_mf = 0.2\n",
    "percentage_dopant = 20\n",
    "\n",
    "data_2 = '/Users/glw33/Documents/papers/Gd-CeO2_SC/supporting_information/examples/data_for_examples/example_data_4_alternate_sites_one_defect.txt' \n",
    "\n",
    "labels=[ 'temp', 'r_gb', 'max phi', 'MS phi', 'Debye length', 'space charge width' ]\n",
    "data = pd.DataFrame( columns=labels )\n",
    "\n",
    "boundary_conditions = 'periodic'\n",
    "\n",
    "defect_species = { l : Defect_Species( l, v, m ) for l, v, m in zip( defect_labels, valence, mole_fractions ) }\n",
    "\n",
    "all_sites = Set_of_Sites.set_of_sites_from_input_data( data_2, limits, defect_species )\n",
    "for site in all_sites.subset( 'site_2' ):\n",
    "    site.defect_with_label('defect_2').fixed = True\n",
    "\n",
    "grid = Grid.grid_from_set_of_sites( all_sites, limits[0], limits[1], len_b, len_c )\n",
    "\n",
    "for t in temp:\n",
    "\n",
    "    c = Calculation( grid, alpha, conv, t, boundary_conditions )\n",
    "    \n",
    "    c.solve()\n",
    "    c.form_subgrids( site_labels )\n",
    "    c.mole_fractions\n",
    "    c.calculate_resistivity_ratio( desired_mobile_defect_mf )\n",
    "    c.solve_MS_approx_for_phi( valence[0] )\n",
    "    c.calculate_debye_length()\n",
    "    c.calculate_space_charge_width( valence[0] )\n",
    "    \n",
    "    data = data.append( pd.DataFrame( [[ t, c.resistivity_ratio, max( c.phi ), c.ms_phi, \n",
    "                               c.debye_length, c.space_charge_width ]], columns=labels ) )\n",
    "    \n",
    "# Ea = calculate_activation_energy( resistivity_ratio_list, temp ) "
   ]
  },
  {
   "cell_type": "code",
   "execution_count": 3,
   "metadata": {
    "collapsed": false
   },
   "outputs": [
    {
     "data": {
      "text/html": [
       "<div>\n",
       "<table border=\"1\" class=\"dataframe\">\n",
       "  <thead>\n",
       "    <tr style=\"text-align: right;\">\n",
       "      <th></th>\n",
       "      <th>temp</th>\n",
       "      <th>r_gb</th>\n",
       "      <th>max phi</th>\n",
       "      <th>MS phi</th>\n",
       "      <th>Debye length</th>\n",
       "      <th>space charge width</th>\n",
       "    </tr>\n",
       "  </thead>\n",
       "  <tbody>\n",
       "    <tr>\n",
       "      <th>0</th>\n",
       "      <td>773.15</td>\n",
       "      <td>4.430889</td>\n",
       "      <td>0.820338</td>\n",
       "      <td>0.227045647768514</td>\n",
       "      <td>2.177104</td>\n",
       "      <td>15.278732</td>\n",
       "    </tr>\n",
       "  </tbody>\n",
       "</table>\n",
       "</div>"
      ],
      "text/plain": [
       "     temp      r_gb   max phi             MS phi  Debye length  \\\n",
       "0  773.15  4.430889  0.820338  0.227045647768514      2.177104   \n",
       "\n",
       "   space charge width  \n",
       "0           15.278732  "
      ]
     },
     "execution_count": 3,
     "metadata": {},
     "output_type": "execute_result"
    }
   ],
   "source": [
    "data"
   ]
  },
  {
   "cell_type": "markdown",
   "metadata": {},
   "source": [
    "The space-charge potential calculated using the Mott-Schottky model can be compared to the space-charge potential calculated using the Poisson-Boltzmann solver as demonstrated below."
   ]
  },
  {
   "cell_type": "code",
   "execution_count": 4,
   "metadata": {
    "collapsed": false
   },
   "outputs": [
    {
     "ename": "NameError",
     "evalue": "name 'space_charge_potential_list' is not defined",
     "output_type": "error",
     "traceback": [
      "\u001b[0;31m---------------------------------------------------------------------------\u001b[0m",
      "\u001b[0;31mNameError\u001b[0m                                 Traceback (most recent call last)",
      "\u001b[0;32m<ipython-input-4-86e9bdb93b8b>\u001b[0m in \u001b[0;36m<module>\u001b[0;34m()\u001b[0m\n\u001b[0;32m----> 1\u001b[0;31m \u001b[0mplt\u001b[0m\u001b[0;34m.\u001b[0m\u001b[0mplot\u001b[0m\u001b[0;34m(\u001b[0m \u001b[0mtemp\u001b[0m\u001b[0;34m,\u001b[0m \u001b[0mspace_charge_potential_list\u001b[0m\u001b[0;34m,\u001b[0m \u001b[0mlabel\u001b[0m \u001b[0;34m=\u001b[0m \u001b[0;34m'$\\Phi_0^{PB}$'\u001b[0m \u001b[0;34m)\u001b[0m\u001b[0;34m\u001b[0m\u001b[0m\n\u001b[0m\u001b[1;32m      2\u001b[0m \u001b[0mplt\u001b[0m\u001b[0;34m.\u001b[0m\u001b[0mplot\u001b[0m\u001b[0;34m(\u001b[0m \u001b[0mtemp\u001b[0m\u001b[0;34m,\u001b[0m \u001b[0mms_space_charge_potential_list\u001b[0m\u001b[0;34m,\u001b[0m \u001b[0mlabel\u001b[0m \u001b[0;34m=\u001b[0m \u001b[0;34m' $\\Phi_0^{MS}'\u001b[0m \u001b[0;34m)\u001b[0m\u001b[0;34m\u001b[0m\u001b[0m\n\u001b[1;32m      3\u001b[0m \u001b[0mplt\u001b[0m\u001b[0;34m.\u001b[0m\u001b[0mxlabel\u001b[0m\u001b[0;34m(\u001b[0m \u001b[0;34m'Temperature (K)'\u001b[0m \u001b[0;34m)\u001b[0m\u001b[0;34m\u001b[0m\u001b[0m\n\u001b[1;32m      4\u001b[0m \u001b[0mplt\u001b[0m\u001b[0;34m.\u001b[0m\u001b[0mylabel\u001b[0m\u001b[0;34m(\u001b[0m \u001b[0;34m'Potential (eV)'\u001b[0m \u001b[0;34m)\u001b[0m\u001b[0;34m\u001b[0m\u001b[0m\n\u001b[1;32m      5\u001b[0m \u001b[0mplt\u001b[0m\u001b[0;34m.\u001b[0m\u001b[0mshow\u001b[0m\u001b[0;34m(\u001b[0m\u001b[0;34m)\u001b[0m\u001b[0;34m\u001b[0m\u001b[0m\n",
      "\u001b[0;31mNameError\u001b[0m: name 'space_charge_potential_list' is not defined"
     ]
    }
   ],
   "source": [
    "plt.plot( temp, space_charge_potential_list, label = '$\\Phi_0^{PB}$' )\n",
    "plt.plot( temp, ms_space_charge_potential_list, label = ' $\\Phi_0^{MS}' )\n",
    "plt.xlabel( 'Temperature (K)' )\n",
    "plt.ylabel( 'Potential (eV)' )\n",
    "plt.show()"
   ]
  },
  {
   "cell_type": "code",
   "execution_count": null,
   "metadata": {
    "collapsed": false
   },
   "outputs": [],
   "source": [
    "plt.plot( temp, space_charge_width_list, label = 'space charge width' )\n",
    "plt.xlabel( 'Temperature (K)' )\n",
    "plt.ylabel( 'space charge width' )\n",
    "plt.show()"
   ]
  }
 ],
 "metadata": {
  "kernelspec": {
   "display_name": "Python 3",
   "language": "python",
   "name": "python3"
  },
  "language_info": {
   "codemirror_mode": {
    "name": "ipython",
    "version": 3
   },
   "file_extension": ".py",
   "mimetype": "text/x-python",
   "name": "python",
   "nbconvert_exporter": "python",
   "pygments_lexer": "ipython3",
   "version": "3.5.2"
  }
 },
 "nbformat": 4,
 "nbformat_minor": 2
}
