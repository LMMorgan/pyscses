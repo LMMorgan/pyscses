{
 "cells": [
  {
   "cell_type": "markdown",
   "metadata": {},
   "source": [
    "# Mott-Schottky model for calculating the space charge potential\n",
    "\n",
    "Analysis of grain boundary effects on ionic conductivity typically considers the space-charge potential as a characteristic parameter. However $r_{GB}$ can be obtained directly from experimental impedance spectroscopy, whereas the space charge potential cannot and is therefore approximated using the Mott-Schottky model. \n",
    "\n",
    "$$ r_{GB} = \\frac{\\rho_{i,x}}{\\rho_{i,\\infty}} = \\frac{\\mathrm{exp}(z\\Phi_0 / k_BT)}{2z \\Phi_0 / k_BT } $$\n",
    "\n",
    "The conventional Mott-Schottky analysis assumes that the grain boundart region is negligably thin and that oxygen vacancies are fully depleted in the space-charge region. This gives an analytical description of the space-charge behaviour which can be completely characterised from the space charge potential. \n",
    "\n",
    "By calculating the grain boundary resistivity of the system, the Mott-Schotty model can be used to calculate the space charge potential allowing a comparison between the value calculated using the Poisson-Boltzmann solver and the value calculated using the Mott-Schottky model. \n",
    "\n",
    "Using ```sympy.solvers.solve ``` the function required to solve the Mott-Scottky model for $\\Phi$ was calculated. \n",
    "\n",
    "```\n",
    "x = Symbol('x')\n",
    "y = Symbol('y')\n",
    "\n",
    "print( solve (exp(x) / ( 2 * x ) - y, x )  )\n",
    "\n",
    "\n",
    "[-LambertW(-1/(2*y))]\n",
    "```\n",
    "\n",
    "A function named ```solve_MS_for_phi``` was created in the source code which takes the input ```y```, the grain boundary resistivity, and returns ``` -mpmath.lambertw(-1/(2*y),k=-1) ```. The output for this is then multiplied by the Boltzmann constant, and the temperature, and divided by the charge to give the space charge potential."
   ]
  },
  {
   "cell_type": "code",
   "execution_count": 1,
   "metadata": {
    "collapsed": true
   },
   "outputs": [],
   "source": [
    "import os\n",
    "os.getcwd()\n",
    "\n",
    "import sys\n",
    "sys.path.append('/Users/glw33/source/project')\n",
    "\n",
    "from project.defect_species import Defect_Species\n",
    "from project.set_of_sites import Set_of_Sites\n",
    "from project.constants import boltzmann_eV\n",
    "from project.onedefect_onedopant_calculations import *\n",
    "from project.general_calculations import *\n",
    "\n",
    "import numpy as np\n",
    "import pandas as pd\n",
    "import matplotlib.pyplot as plt\n",
    "from matplotlib import rc\n",
    "%matplotlib inline"
   ]
  },
  {
   "cell_type": "code",
   "execution_count": 2,
   "metadata": {
    "collapsed": true
   },
   "outputs": [],
   "source": [
    "alpha = 0.0005\n",
    "\n",
    "conv = 1e-8\n",
    "grid_x_min = -5e-8\n",
    "grid_x_max = +5e-8\n",
    "\n",
    "index = 111\n",
    "\n",
    "valence = [ +1.0, -1.0 ]\n",
    "site_labels = ['site_1', 'site_2']\n",
    "defect_labels = ['defect_1', 'defect_2']\n",
    "\n",
    "dielectric = 50\n",
    "b = 1e-9\n",
    "c = 1e-9\n",
    "\n",
    "desired_mobile_defect_mf = 0.2\n",
    "percentage_dopant = 20\n",
    "\n",
    "data_2 = '/Users/glw33/Documents/papers/Gd-CeO2_SC/supporting_information/examples/data_for_examples/example_data_4_alternate_sites_one_defect.txt' \n",
    "  \n",
    "temp = [ 773.15, 873.15, 973.15, 1073.15, 1173.15, 1273.15 ]\n",
    "mole_fractions = [[0.2,0.2],[0.2,0.2],[0.2,0.2],[0.2,0.2],[0.2,0.2],[0.2,0.2]]\n",
    "\n",
    "resistivity_ratio_list = []\n",
    "space_charge_potential_list = []\n",
    "bulk_density_list = []\n",
    "\n",
    "for t, m in zip( temp, mole_fractions ):\n",
    "    defect_species = { l : Defect_Species( l, v, m ) for l, v, m in zip( defect_labels, valence, m) }\n",
    "    data_file = open( data_2, 'r')\n",
    "    input_data = [ line.split() for line in data_file.readlines() ]\n",
    "    input_data = [ line for line in input_data if ( float(line[1]) > grid_x_min and float(line[1]) < grid_x_max ) ] \n",
    "    all_sites = Set_of_Sites( [ site_from_input_file( line, defect_species ) for line in input_data ] )\n",
    "    for site in all_sites.subset( 'site_2' ):\n",
    "        site.defect_with_label('defect_2').fixed = True\n",
    "    grid, phi, rho, probabilities, resistivity_ratio, defect_1_mole_fraction, defect_2_mole_fraction, bulk_density, niter = calculate_GB_properties( t, grid_x_min, grid_x_max, b, c, index, alpha, conv, desired_mobile_defect_mf, all_sites, site_labels, 'periodic' )\n",
    "    resistivity_ratio_list.append( resistivity_ratio )\n",
    "    space_charge_potential_list.append(max(phi))\n",
    "    bulk_density_list.append( bulk_density )"
   ]
  },
  {
   "cell_type": "code",
   "execution_count": 3,
   "metadata": {
    "collapsed": true
   },
   "outputs": [],
   "source": [
    "MS_space_charge_potential = np.array( [ solve_MS_for_phi(r, t, valence[0]) * boltzmann_eV*t / valence[0]  for r, t in zip( resistivity_ratio_list, temp ) ] )"
   ]
  },
  {
   "cell_type": "markdown",
   "metadata": {},
   "source": [
    "The space-charge potential calculated using the Mott-Schottky model can be compared to the space-charge potential calculated using the Poisson-Boltzmann solver as demonstrated below."
   ]
  },
  {
   "cell_type": "code",
   "execution_count": 4,
   "metadata": {
    "collapsed": false
   },
   "outputs": [
    {
     "data": {
      "image/png": "[encoded data removed]",
      "text/plain": [
       "<matplotlib.figure.Figure at 0x11643d4a8>"
      ]
     },
     "metadata": {},
     "output_type": "display_data"
    }
   ],
   "source": [
    "plt.plot( temp, space_charge_potential_list, label = '$\\Phi_0^{PB}$' )\n",
    "plt.plot( temp, MS_space_charge_potential, label = ' $\\Phi_0^{MS}' )\n",
    "plt.xlabel( 'Temperature (K)' )\n",
    "plt.ylabel( 'Potential (eV)' )\n",
    "plt.show()"
   ]
  },
  {
   "cell_type": "markdown",
   "metadata": {},
   "source": [
    "# The Debye length and space charge width\n",
    "\n",
    "The Poisson-Boltzmann equation can be manipulated to give the Debye length. The Debye length is the \"characteristic length scale\" from the Debye-Huckel equation, which is the linearised Poisson-Boltzmann equation used for dilute systems.\n",
    "\n",
    "$$ L_D = \\left( \\frac{\\epsilon \\epsilon_0 k_BT}{2 F^2 c_{i, \\infty } } \\right) ^ \\frac{1}{2} $$\n",
    "\n",
    "Where $L_D$ is the Debye length, $\\epsilon$ is the dielectric, $\\epsilon_0$ is the vacuum permittivity, $k_B$ is the Boltzmann constant, $T$ is the temperature, $F$ is Faraday's constant and $c_{i,\\infty}$ is the bulk defect density. \n",
    "$L_D$ is then used to calculate the width of the space charge region.\n",
    "\n",
    "$$ \\delta_{sc} = 2L_D \\left(\\frac{\\Phi_0 z}   {k_BT} \\right)^ \\frac{1}{2}$$\n",
    "\n",
    "Where $\\Phi_0$ is the space charge potential. The space charge potential can be calculated from the Poisson-Boltzmann equation or from the Mott-Schottky model to find their respective space charge widths. "
   ]
  },
  {
   "cell_type": "code",
   "execution_count": 5,
   "metadata": {
    "collapsed": false
   },
   "outputs": [
    {
     "name": "stdout",
     "output_type": "stream",
     "text": [
      "[ 15.27873177  15.11835738  14.96656697  14.8224014   14.68498277\n",
      "  14.55355901]\n"
     ]
    }
   ],
   "source": [
    "SCW = np.array( [ space_charge_width( b, t, valence[0], p ) for t, p, b in zip( temp, space_charge_potential_list, bulk_density_list ) ] )\n",
    "print(SCW)"
   ]
  }
 ],
 "metadata": {
  "kernelspec": {
   "display_name": "Python 3",
   "language": "python",
   "name": "python3"
  },
  "language_info": {
   "codemirror_mode": {
    "name": "ipython",
    "version": 3
   },
   "file_extension": ".py",
   "mimetype": "text/x-python",
   "name": "python",
   "nbconvert_exporter": "python",
   "pygments_lexer": "ipython3",
   "version": "3.5.2"
  }
 },
 "nbformat": 4,
 "nbformat_minor": 2
}
