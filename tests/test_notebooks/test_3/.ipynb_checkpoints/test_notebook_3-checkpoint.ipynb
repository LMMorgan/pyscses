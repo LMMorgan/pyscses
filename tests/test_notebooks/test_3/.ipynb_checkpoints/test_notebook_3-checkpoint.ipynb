{
 "cells": [
  {
   "cell_type": "code",
   "execution_count": 1,
   "metadata": {},
   "outputs": [],
   "source": [
    "from pyscses.defect_species import DefectSpecies\n",
    "from pyscses.set_of_sites import Set_of_Sites\n",
    "from pyscses.constants import boltzmann_eV\n",
    "from pyscses.calculation import Calculation, calculate_activation_energies\n",
    "from pyscses.set_up_calculation import calculate_grid_offsets\n",
    "from pyscses.grid import Grid\n",
    "\n",
    "import numpy as np\n",
    "import pandas as pd\n",
    "import matplotlib.pyplot as plt\n",
    "%matplotlib inline"
   ]
  },
  {
   "cell_type": "code",
   "execution_count": 2,
   "metadata": {},
   "outputs": [],
   "source": [
    "boundary_conditions = 'periodic'\n",
    "site_charges = False\n",
    "systems = 'gouy-chapman'\n",
    "core_models = False\n",
    "site_models = 'site_explicit'\n",
    "scaling = True"
   ]
  },
  {
   "cell_type": "code",
   "execution_count": 3,
   "metadata": {},
   "outputs": [],
   "source": [
    "alpha = 0.0005\n",
    "conv = 1e-8\n",
    "grid_x_min = -6.094e-9\n",
    "grid_x_max = 5.16e-9\n",
    "bulk_x_min = -5.783e-9\n",
    "bulk_x_max = -2.502e-9\n",
    "\n",
    "dielectric = 55\n",
    "\n",
    "index = 111\n",
    "b = 7.65327e-10\n",
    "c = 7.65327e-10\n",
    "\n",
    "temp = [ 773.15 ]"
   ]
  },
  {
   "cell_type": "code",
   "execution_count": null,
   "metadata": {},
   "outputs": [],
   "source": [
    "valence = [ +2.0, -1.0 ]\n",
    "site_labels = [ 'O', 'Ce' ]\n",
    "defect_labels = ['Vo', 'Gd']\n",
    "mole_fractions = np.array([ [ 0.05, 0.2 ] ])\n",
    "initial_guess = np.array([ [ 0.05, 0.2 ] ])\n",
    "mobilities = [ 1.0, 0.0 ]"
   ]
  },
  {
   "cell_type": "code",
   "execution_count": null,
   "metadata": {},
   "outputs": [],
   "source": [
    "data = '../input_data/Gd_CeO2_111_data.txt'"
   ]
  },
  {
   "cell_type": "code",
   "execution_count": null,
   "metadata": {},
   "outputs": [],
   "source": [
    "labels=[ 'core_model', 'site_model', 'MS_GC', 'site_charge', 'resistivity_scaling', 'temperature', 'input_mole_fractions', 'x', 'phi', 'rho', 'Vo_mole_fraction', 'Gd_mole_fraction']\n",
    "output_data = pd.DataFrame( columns=labels )\n",
    "filename = 'expected_outputs/output_data.csv'"
   ]
  },
  {
   "cell_type": "code",
   "execution_count": null,
   "metadata": {},
   "outputs": [],
   "source": [
    "limits, laplacian_limits = calculate_grid_offsets( data, grid_x_min, grid_x_max, 'single' )\n",
    "\n",
    "for m in mole_fractions:\n",
    "    for t in temp:\n",
    "    \n",
    "        defect_species = { l : DefectSpecies( l, v, m, mob ) for l, v, m, mob in zip( defect_labels, valence, m, mobilities ) }\n",
    "\n",
    "        all_sites = Set_of_Sites.set_of_sites_from_input_data( data, [grid_x_min, grid_x_max], defect_species, site_charges, core_models, t )\n",
    "        if site_models == 'continuum':\n",
    "            all_sites, limits = Set_of_Sites.form_continuum_sites( all_sites, grid_x_min, grid_x_max, 1000, b, c, defect_species, laplacian_limits, site_labels, defect_labels )\n",
    "        if systems == 'mott-schottky':\n",
    "            for site in all_sites.subset( 'Ce' ):\n",
    "                site.defect_with_label('Gd').fixed = True\n",
    "        if systems == 'gouy-chapman':\n",
    "            for site in all_sites.subset( 'Ce' ):\n",
    "                site.defect_with_label('Gd').fixed = False\n",
    "        grid = Grid.grid_from_set_of_sites( all_sites, limits, laplacian_limits, b, c )\n",
    "        \n",
    "        c_o = Calculation( grid, bulk_x_min, bulk_x_max, alpha, conv, dielectric, t, boundary_conditions )\n",
    "        c_o.form_subgrids( site_labels )\n",
    "        if systems == 'gouy-chapman':\n",
    "            c_o.mole_fraction_correction( m, systems, initial_guess )\n",
    "        c_o.solve(systems)\n",
    "        c_o.mole_fractions()\n",
    "        c_o.calculate_resistivity_ratio( 'positive', 2e-2 )\n",
    "        c_o.solve_MS_approx_for_phi( valence[0] )\n",
    "        \n",
    "        output_data['x'] = grid.x\n",
    "        output_data['phi'] = c_o.phi\n",
    "        output_data['rho'] = c_o.rho\n",
    "        output_data['Vo_mole_fraction'] = c_o.mf[site_labels[0]]\n",
    "        output_data['Gd_mole_fraction'] = c_o.mf[site_labels[1]]\n",
    "        output_data['core_model'] = str(core_models)\n",
    "        output_data['site_model'] = str(site_models)\n",
    "        output_data['MS_GC'] = str(systems)\n",
    "        output_data['site_charge'] = str(site_charges)\n",
    "        output_data['resistivity_scaling'] = str(scaling)\n",
    "        output_data['temperature'] = t\n",
    "        output_data['input_mole_fractions'] = str(m)\n",
    "        output_data.to_csv(filename, index=False)\n",
    "        \n",
    "        key_data = np.column_stack(( max(c_o.phi), c_o.perpendicular_resistivity_ratio, c_o.parallel_resistivity_ratio ))\n",
    "        np.savetxt( 'expected_outputs/key_data.dat', key_data )     \n"
   ]
  },
  {
   "cell_type": "code",
   "execution_count": null,
   "metadata": {},
   "outputs": [],
   "source": [
    "# from fig_params import rcParams\n",
    "# import fig_params as fp\n",
    "# rcParams.update( fp.transitionfig_formatting)\n",
    "plt.plot(grid.x, c_o.phi)\n",
    "plt.xlabel( '$x$ $\\mathrm{coordinate}$' )\n",
    "plt.ylabel('$\\Phi$ $\\mathrm{( eV )}$')\n",
    "plt.xlim( -5e-9, 5e-9)\n",
    "plt.ylim(min(c_o.phi))\n",
    "plt.savefig('expected_outputs/x_vs_potential.pdf')\n",
    "plt.show()\n",
    "\n",
    "plt.plot(grid.x, c_o.rho)\n",
    "plt.xlabel( '$x$ $\\mathrm{coordinate}$'  )\n",
    "plt.ylabel(' $ \\\\rho $ $(\\mathrm{C m}^{-1})$')\n",
    "plt.xlim( -5e-9, 5e-9)\n",
    "plt.ylim(min(c_o.rho))\n",
    "plt.savefig('expected_outputs/x_vs_chargedensity.pdf')\n",
    "plt.show()\n",
    "\n",
    "plt.plot(grid.x, c_o.mf[site_labels[0]], label = '$\\mathrm{Vo}^{..}$', zorder = 5.0)\n",
    "plt.plot(grid.x, c_o.mf[site_labels[1]], label = '$\\mathrm{Gd}$', zorder = 4.0)\n",
    "plt.xlabel( '$x$ $\\mathrm{coordinate}$'  )\n",
    "plt.ylabel('$x_{i}$')\n",
    "plt.xlim( -5e-9, 5e-9)\n",
    "plt.ylim(0.0)\n",
    "plt.legend()\n",
    "plt.savefig('expected_outputs/x_vs_molefractions.pdf')\n",
    "plt.show()"
   ]
  },
  {
   "cell_type": "code",
   "execution_count": null,
   "metadata": {},
   "outputs": [],
   "source": []
  }
 ],
 "metadata": {
  "kernelspec": {
   "display_name": "Python 3",
   "language": "python",
   "name": "python3"
  },
  "language_info": {
   "codemirror_mode": {
    "name": "ipython",
    "version": 3
   },
   "file_extension": ".py",
   "mimetype": "text/x-python",
   "name": "python",
   "nbconvert_exporter": "python",
   "pygments_lexer": "ipython3",
   "version": "3.6.1"
  }
 },
 "nbformat": 4,
 "nbformat_minor": 2
}
